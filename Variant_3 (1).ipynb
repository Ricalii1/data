{
 "cells": [
  {
   "cell_type": "markdown",
   "id": "e62e729a",
   "metadata": {
    "id": "e62e729a"
   },
   "source": [
    "# Модуль 1\n",
    "-------------------"
   ]
  },
  {
   "cell_type": "code",
   "execution_count": 9,
   "id": "c829d608",
   "metadata": {
    "id": "c829d608"
   },
   "outputs": [],
   "source": [
    "import sklearn\n",
    "import pandas as pd\n",
    "import seaborn as sns\n",
    "import matplotlib.pyplot as plt\n",
    "from sklearn.decomposition import PCA\n",
    "from sklearn.preprocessing import MinMaxScaler\n",
    "\n",
    "# Алгоритмы кластеризации\n",
    "from sklearn.cluster import KMeans\n",
    "from sklearn.cluster import MiniBatchKMeans\n",
    "from sklearn.mixture import GaussianMixture\n",
    "\n",
    "\n",
    "%matplotlib inline"
   ]
  },
  {
   "cell_type": "markdown",
   "id": "d9ea307d",
   "metadata": {
    "id": "d9ea307d"
   },
   "source": [
    "### 1.1 Парсинг данных"
   ]
  },
  {
   "cell_type": "code",
   "execution_count": 11,
   "id": "4c17ef5a",
   "metadata": {
    "id": "4c17ef5a",
    "outputId": "bc183b7c-d405-48e2-e755-8ddc460081a3"
   },
   "outputs": [
    {
     "data": {
      "text/html": [
       "<div>\n",
       "<style scoped>\n",
       "    .dataframe tbody tr th:only-of-type {\n",
       "        vertical-align: middle;\n",
       "    }\n",
       "\n",
       "    .dataframe tbody tr th {\n",
       "        vertical-align: top;\n",
       "    }\n",
       "\n",
       "    .dataframe thead th {\n",
       "        text-align: right;\n",
       "    }\n",
       "</style>\n",
       "<table border=\"1\" class=\"dataframe\">\n",
       "  <thead>\n",
       "    <tr style=\"text-align: right;\">\n",
       "      <th></th>\n",
       "      <th>ID</th>\n",
       "      <th>MM_IN_BANK</th>\n",
       "      <th>MM_W_CARD</th>\n",
       "      <th>AGE</th>\n",
       "      <th>GENDER</th>\n",
       "      <th>EDUCATION_LEVEL</th>\n",
       "      <th>MARITAL_STATUS</th>\n",
       "      <th>DEPENDANT_CNT</th>\n",
       "      <th>INCOME_MAIN_AMT</th>\n",
       "      <th>REG_CODE</th>\n",
       "    </tr>\n",
       "  </thead>\n",
       "  <tbody>\n",
       "    <tr>\n",
       "      <th>0</th>\n",
       "      <td>500000000000003702</td>\n",
       "      <td>5</td>\n",
       "      <td>5</td>\n",
       "      <td>35</td>\n",
       "      <td>2</td>\n",
       "      <td>3</td>\n",
       "      <td>3</td>\n",
       "      <td>0</td>\n",
       "      <td>87000</td>\n",
       "      <td>9.0</td>\n",
       "    </tr>\n",
       "    <tr>\n",
       "      <th>1</th>\n",
       "      <td>500000000000004100</td>\n",
       "      <td>108</td>\n",
       "      <td>0</td>\n",
       "      <td>34</td>\n",
       "      <td>2</td>\n",
       "      <td>3</td>\n",
       "      <td>3</td>\n",
       "      <td>2</td>\n",
       "      <td>180000</td>\n",
       "      <td>31.0</td>\n",
       "    </tr>\n",
       "    <tr>\n",
       "      <th>2</th>\n",
       "      <td>500000000000004523</td>\n",
       "      <td>0</td>\n",
       "      <td>0</td>\n",
       "      <td>35</td>\n",
       "      <td>1</td>\n",
       "      <td>1</td>\n",
       "      <td>3</td>\n",
       "      <td>0</td>\n",
       "      <td>61000</td>\n",
       "      <td>38.0</td>\n",
       "    </tr>\n",
       "    <tr>\n",
       "      <th>3</th>\n",
       "      <td>500000000000004529</td>\n",
       "      <td>6</td>\n",
       "      <td>6</td>\n",
       "      <td>38</td>\n",
       "      <td>1</td>\n",
       "      <td>5</td>\n",
       "      <td>3</td>\n",
       "      <td>0</td>\n",
       "      <td>318000</td>\n",
       "      <td>42.0</td>\n",
       "    </tr>\n",
       "    <tr>\n",
       "      <th>4</th>\n",
       "      <td>500000000000004718</td>\n",
       "      <td>18</td>\n",
       "      <td>5</td>\n",
       "      <td>39</td>\n",
       "      <td>1</td>\n",
       "      <td>-1</td>\n",
       "      <td>3</td>\n",
       "      <td>0</td>\n",
       "      <td>34000</td>\n",
       "      <td>81.0</td>\n",
       "    </tr>\n",
       "    <tr>\n",
       "      <th>...</th>\n",
       "      <td>...</td>\n",
       "      <td>...</td>\n",
       "      <td>...</td>\n",
       "      <td>...</td>\n",
       "      <td>...</td>\n",
       "      <td>...</td>\n",
       "      <td>...</td>\n",
       "      <td>...</td>\n",
       "      <td>...</td>\n",
       "      <td>...</td>\n",
       "    </tr>\n",
       "    <tr>\n",
       "      <th>199995</th>\n",
       "      <td>500000004694875418</td>\n",
       "      <td>60</td>\n",
       "      <td>5</td>\n",
       "      <td>42</td>\n",
       "      <td>2</td>\n",
       "      <td>3</td>\n",
       "      <td>3</td>\n",
       "      <td>0</td>\n",
       "      <td>60000</td>\n",
       "      <td>62.0</td>\n",
       "    </tr>\n",
       "    <tr>\n",
       "      <th>199996</th>\n",
       "      <td>500000004694884558</td>\n",
       "      <td>19</td>\n",
       "      <td>0</td>\n",
       "      <td>37</td>\n",
       "      <td>2</td>\n",
       "      <td>-1</td>\n",
       "      <td>4</td>\n",
       "      <td>1</td>\n",
       "      <td>68000</td>\n",
       "      <td>40.0</td>\n",
       "    </tr>\n",
       "    <tr>\n",
       "      <th>199997</th>\n",
       "      <td>500000004694909288</td>\n",
       "      <td>33</td>\n",
       "      <td>3</td>\n",
       "      <td>44</td>\n",
       "      <td>2</td>\n",
       "      <td>1</td>\n",
       "      <td>1</td>\n",
       "      <td>2</td>\n",
       "      <td>58000</td>\n",
       "      <td>26.0</td>\n",
       "    </tr>\n",
       "    <tr>\n",
       "      <th>199998</th>\n",
       "      <td>500000004694952000</td>\n",
       "      <td>0</td>\n",
       "      <td>0</td>\n",
       "      <td>31</td>\n",
       "      <td>2</td>\n",
       "      <td>-1</td>\n",
       "      <td>-1</td>\n",
       "      <td>0</td>\n",
       "      <td>NaN</td>\n",
       "      <td>79.0</td>\n",
       "    </tr>\n",
       "    <tr>\n",
       "      <th>199999</th>\n",
       "      <td>500000004694957908</td>\n",
       "      <td>82</td>\n",
       "      <td>18</td>\n",
       "      <td>45</td>\n",
       "      <td>1</td>\n",
       "      <td>6</td>\n",
       "      <td>3</td>\n",
       "      <td>2</td>\n",
       "      <td>150000</td>\n",
       "      <td>31.0</td>\n",
       "    </tr>\n",
       "  </tbody>\n",
       "</table>\n",
       "<p>200000 rows × 10 columns</p>\n",
       "</div>"
      ],
      "text/plain": [
       "                        ID  MM_IN_BANK  MM_W_CARD  AGE  GENDER   \n",
       "0       500000000000003702           5          5   35       2  \\\n",
       "1       500000000000004100         108          0   34       2   \n",
       "2       500000000000004523           0          0   35       1   \n",
       "3       500000000000004529           6          6   38       1   \n",
       "4       500000000000004718          18          5   39       1   \n",
       "...                    ...         ...        ...  ...     ...   \n",
       "199995  500000004694875418          60          5   42       2   \n",
       "199996  500000004694884558          19          0   37       2   \n",
       "199997  500000004694909288          33          3   44       2   \n",
       "199998  500000004694952000           0          0   31       2   \n",
       "199999  500000004694957908          82         18   45       1   \n",
       "\n",
       "        EDUCATION_LEVEL  MARITAL_STATUS  DEPENDANT_CNT INCOME_MAIN_AMT   \n",
       "0                     3               3              0           87000  \\\n",
       "1                     3               3              2          180000   \n",
       "2                     1               3              0           61000   \n",
       "3                     5               3              0          318000   \n",
       "4                    -1               3              0           34000   \n",
       "...                 ...             ...            ...             ...   \n",
       "199995                3               3              0           60000   \n",
       "199996               -1               4              1           68000   \n",
       "199997                1               1              2           58000   \n",
       "199998               -1              -1              0             NaN   \n",
       "199999                6               3              2          150000   \n",
       "\n",
       "        REG_CODE  \n",
       "0            9.0  \n",
       "1           31.0  \n",
       "2           38.0  \n",
       "3           42.0  \n",
       "4           81.0  \n",
       "...          ...  \n",
       "199995      62.0  \n",
       "199996      40.0  \n",
       "199997      26.0  \n",
       "199998      79.0  \n",
       "199999      31.0  \n",
       "\n",
       "[200000 rows x 10 columns]"
      ]
     },
     "execution_count": 11,
     "metadata": {},
     "output_type": "execute_result"
    }
   ],
   "source": [
    "df = pd.read_csv('data/train_2.csv', delimiter=';', low_memory=False)\n",
    "df"
   ]
  },
  {
   "cell_type": "code",
   "execution_count": 13,
   "id": "588fb8fd",
   "metadata": {},
   "outputs": [
    {
     "data": {
      "text/html": [
       "<div>\n",
       "<style scoped>\n",
       "    .dataframe tbody tr th:only-of-type {\n",
       "        vertical-align: middle;\n",
       "    }\n",
       "\n",
       "    .dataframe tbody tr th {\n",
       "        vertical-align: top;\n",
       "    }\n",
       "\n",
       "    .dataframe thead th {\n",
       "        text-align: right;\n",
       "    }\n",
       "</style>\n",
       "<table border=\"1\" class=\"dataframe\">\n",
       "  <thead>\n",
       "    <tr style=\"text-align: right;\">\n",
       "      <th></th>\n",
       "      <th>ID</th>\n",
       "      <th>PROD_TYPE</th>\n",
       "      <th>TRANS_DTTM</th>\n",
       "      <th>MCC_CODE</th>\n",
       "      <th>SUM_TRANS</th>\n",
       "      <th>LOCATION_NAME</th>\n",
       "    </tr>\n",
       "  </thead>\n",
       "  <tbody>\n",
       "    <tr>\n",
       "      <th>0</th>\n",
       "      <td>500000001271933224</td>\n",
       "      <td>1</td>\n",
       "      <td>31.10.2021 16:04:58</td>\n",
       "      <td>5411</td>\n",
       "      <td>411,45</td>\n",
       "      <td>VERNYJ 1263\\5A GORKOGO STR\\SERPUKHOV\\142203   ...</td>\n",
       "    </tr>\n",
       "    <tr>\n",
       "      <th>1</th>\n",
       "      <td>500000001089710588</td>\n",
       "      <td>2</td>\n",
       "      <td>20.08.2021 18:00:39</td>\n",
       "      <td>7311</td>\n",
       "      <td>503</td>\n",
       "      <td>AVITO\\7 LESNAYA STR\\MOSCOW\\125196    RUSRUS</td>\n",
       "    </tr>\n",
       "    <tr>\n",
       "      <th>2</th>\n",
       "      <td>500000000004725733</td>\n",
       "      <td>1</td>\n",
       "      <td>31.10.2021 7:28:47</td>\n",
       "      <td>5411</td>\n",
       "      <td>119,24</td>\n",
       "      <td>STOLITSA\\14 POBEDY PR-T\\KOMSOM-NA-AMU\\681029  ...</td>\n",
       "    </tr>\n",
       "    <tr>\n",
       "      <th>3</th>\n",
       "      <td>500000000608267511</td>\n",
       "      <td>2</td>\n",
       "      <td>31.10.2021 16:03:14</td>\n",
       "      <td>5411</td>\n",
       "      <td>249,95</td>\n",
       "      <td>VERNYJ 1361\\2 MIRA STR\\RAMENSKOE\\140105    RUSRUS</td>\n",
       "    </tr>\n",
       "    <tr>\n",
       "      <th>4</th>\n",
       "      <td>500000001639102687</td>\n",
       "      <td>1</td>\n",
       "      <td>29.10.2021 13:13:50</td>\n",
       "      <td>5814</td>\n",
       "      <td>290</td>\n",
       "      <td>RESTORAN MGRILLCAFE.\\LEVAYA STORONA 423-J KM A...</td>\n",
       "    </tr>\n",
       "    <tr>\n",
       "      <th>...</th>\n",
       "      <td>...</td>\n",
       "      <td>...</td>\n",
       "      <td>...</td>\n",
       "      <td>...</td>\n",
       "      <td>...</td>\n",
       "      <td>...</td>\n",
       "    </tr>\n",
       "    <tr>\n",
       "      <th>12845070</th>\n",
       "      <td>500000000054762689</td>\n",
       "      <td>2</td>\n",
       "      <td>03.07.2021 8:10:34</td>\n",
       "      <td>5411</td>\n",
       "      <td>1202</td>\n",
       "      <td>NaN</td>\n",
       "    </tr>\n",
       "    <tr>\n",
       "      <th>12845071</th>\n",
       "      <td>500000000002290038</td>\n",
       "      <td>1</td>\n",
       "      <td>09.08.2021</td>\n",
       "      <td>5411</td>\n",
       "      <td>955</td>\n",
       "      <td>NaN</td>\n",
       "    </tr>\n",
       "    <tr>\n",
       "      <th>12845072</th>\n",
       "      <td>500000000005033472</td>\n",
       "      <td>2</td>\n",
       "      <td>05.10.2021 14:42:52</td>\n",
       "      <td>5311</td>\n",
       "      <td>1198,1</td>\n",
       "      <td>NaN</td>\n",
       "    </tr>\n",
       "    <tr>\n",
       "      <th>12845073</th>\n",
       "      <td>500000000054330593</td>\n",
       "      <td>1</td>\n",
       "      <td>25.09.2021 21:21:02</td>\n",
       "      <td>5411</td>\n",
       "      <td>435,74</td>\n",
       "      <td>NaN</td>\n",
       "    </tr>\n",
       "    <tr>\n",
       "      <th>12845074</th>\n",
       "      <td>500000000124512381</td>\n",
       "      <td>1</td>\n",
       "      <td>15.09.2021 15:26:29</td>\n",
       "      <td>5912</td>\n",
       "      <td>148</td>\n",
       "      <td>NaN</td>\n",
       "    </tr>\n",
       "  </tbody>\n",
       "</table>\n",
       "<p>12845075 rows × 6 columns</p>\n",
       "</div>"
      ],
      "text/plain": [
       "                          ID  PROD_TYPE           TRANS_DTTM  MCC_CODE   \n",
       "0         500000001271933224          1  31.10.2021 16:04:58      5411  \\\n",
       "1         500000001089710588          2  20.08.2021 18:00:39      7311   \n",
       "2         500000000004725733          1   31.10.2021 7:28:47      5411   \n",
       "3         500000000608267511          2  31.10.2021 16:03:14      5411   \n",
       "4         500000001639102687          1  29.10.2021 13:13:50      5814   \n",
       "...                      ...        ...                  ...       ...   \n",
       "12845070  500000000054762689          2   03.07.2021 8:10:34      5411   \n",
       "12845071  500000000002290038          1           09.08.2021      5411   \n",
       "12845072  500000000005033472          2  05.10.2021 14:42:52      5311   \n",
       "12845073  500000000054330593          1  25.09.2021 21:21:02      5411   \n",
       "12845074  500000000124512381          1  15.09.2021 15:26:29      5912   \n",
       "\n",
       "         SUM_TRANS                                      LOCATION_NAME  \n",
       "0           411,45  VERNYJ 1263\\5A GORKOGO STR\\SERPUKHOV\\142203   ...  \n",
       "1              503        AVITO\\7 LESNAYA STR\\MOSCOW\\125196    RUSRUS  \n",
       "2           119,24  STOLITSA\\14 POBEDY PR-T\\KOMSOM-NA-AMU\\681029  ...  \n",
       "3           249,95  VERNYJ 1361\\2 MIRA STR\\RAMENSKOE\\140105    RUSRUS  \n",
       "4              290  RESTORAN MGRILLCAFE.\\LEVAYA STORONA 423-J KM A...  \n",
       "...            ...                                                ...  \n",
       "12845070      1202                                                NaN  \n",
       "12845071       955                                                NaN  \n",
       "12845072    1198,1                                                NaN  \n",
       "12845073    435,74                                                NaN  \n",
       "12845074       148                                                NaN  \n",
       "\n",
       "[12845075 rows x 6 columns]"
      ]
     },
     "execution_count": 13,
     "metadata": {},
     "output_type": "execute_result"
    }
   ],
   "source": [
    "tr1= pd.read_csv('data/train_1.csv', delimiter=';', low_memory=False)\n",
    "tr1"
   ]
  },
  {
   "cell_type": "code",
   "execution_count": 14,
   "id": "a27e6970",
   "metadata": {},
   "outputs": [
    {
     "data": {
      "text/html": [
       "<div>\n",
       "<style scoped>\n",
       "    .dataframe tbody tr th:only-of-type {\n",
       "        vertical-align: middle;\n",
       "    }\n",
       "\n",
       "    .dataframe tbody tr th {\n",
       "        vertical-align: top;\n",
       "    }\n",
       "\n",
       "    .dataframe thead th {\n",
       "        text-align: right;\n",
       "    }\n",
       "</style>\n",
       "<table border=\"1\" class=\"dataframe\">\n",
       "  <thead>\n",
       "    <tr style=\"text-align: right;\">\n",
       "      <th></th>\n",
       "      <th>ID</th>\n",
       "      <th>MM_IN_BANK</th>\n",
       "      <th>MM_W_CARD</th>\n",
       "      <th>AGE</th>\n",
       "      <th>GENDER</th>\n",
       "      <th>EDUCATION_LEVEL</th>\n",
       "      <th>MARITAL_STATUS</th>\n",
       "      <th>DEPENDANT_CNT</th>\n",
       "      <th>INCOME_MAIN_AMT</th>\n",
       "      <th>REG_CODE</th>\n",
       "      <th>PROD_TYPE</th>\n",
       "      <th>TRANS_DTTM</th>\n",
       "      <th>MCC_CODE</th>\n",
       "      <th>SUM_TRANS</th>\n",
       "      <th>LOCATION_NAME</th>\n",
       "    </tr>\n",
       "  </thead>\n",
       "  <tbody>\n",
       "    <tr>\n",
       "      <th>0</th>\n",
       "      <td>500000000000003702</td>\n",
       "      <td>5</td>\n",
       "      <td>5</td>\n",
       "      <td>35</td>\n",
       "      <td>2</td>\n",
       "      <td>3</td>\n",
       "      <td>3</td>\n",
       "      <td>0</td>\n",
       "      <td>87000</td>\n",
       "      <td>9.0</td>\n",
       "      <td>2</td>\n",
       "      <td>31.10.2021 11:30:06</td>\n",
       "      <td>5462</td>\n",
       "      <td>106</td>\n",
       "      <td>BRECEL\\9A 8-J VOZDUSHNOJ ARMII STR\\VOLGOGRAD\\4...</td>\n",
       "    </tr>\n",
       "    <tr>\n",
       "      <th>1</th>\n",
       "      <td>500000000000003702</td>\n",
       "      <td>5</td>\n",
       "      <td>5</td>\n",
       "      <td>35</td>\n",
       "      <td>2</td>\n",
       "      <td>3</td>\n",
       "      <td>3</td>\n",
       "      <td>0</td>\n",
       "      <td>87000</td>\n",
       "      <td>9.0</td>\n",
       "      <td>2</td>\n",
       "      <td>22.10.2021 10:46:13</td>\n",
       "      <td>5921</td>\n",
       "      <td>226,96</td>\n",
       "      <td>KRASNOE BELOE\\14 8-J VOZDUSHNOJ ARMII STR\\VOLG...</td>\n",
       "    </tr>\n",
       "    <tr>\n",
       "      <th>2</th>\n",
       "      <td>500000000000003702</td>\n",
       "      <td>5</td>\n",
       "      <td>5</td>\n",
       "      <td>35</td>\n",
       "      <td>2</td>\n",
       "      <td>3</td>\n",
       "      <td>3</td>\n",
       "      <td>0</td>\n",
       "      <td>87000</td>\n",
       "      <td>9.0</td>\n",
       "      <td>2</td>\n",
       "      <td>05.09.2021 10:02:10</td>\n",
       "      <td>4121</td>\n",
       "      <td>102</td>\n",
       "      <td>YM UBER\\82 BLD 12 SADOVNICHESKAYA STR\\MOSCOW\\1...</td>\n",
       "    </tr>\n",
       "    <tr>\n",
       "      <th>3</th>\n",
       "      <td>500000000000003702</td>\n",
       "      <td>5</td>\n",
       "      <td>5</td>\n",
       "      <td>35</td>\n",
       "      <td>2</td>\n",
       "      <td>3</td>\n",
       "      <td>3</td>\n",
       "      <td>0</td>\n",
       "      <td>87000</td>\n",
       "      <td>9.0</td>\n",
       "      <td>2</td>\n",
       "      <td>13.10.2021 21:24:47</td>\n",
       "      <td>5691</td>\n",
       "      <td>21642</td>\n",
       "      <td>WB\\6 BLD 1 INDUSTRIALNYJ PARK KOLEDINO TER\\POD...</td>\n",
       "    </tr>\n",
       "    <tr>\n",
       "      <th>4</th>\n",
       "      <td>500000000000003702</td>\n",
       "      <td>5</td>\n",
       "      <td>5</td>\n",
       "      <td>35</td>\n",
       "      <td>2</td>\n",
       "      <td>3</td>\n",
       "      <td>3</td>\n",
       "      <td>0</td>\n",
       "      <td>87000</td>\n",
       "      <td>9.0</td>\n",
       "      <td>2</td>\n",
       "      <td>27.10.2021 19:47:16</td>\n",
       "      <td>5399</td>\n",
       "      <td>4026</td>\n",
       "      <td>YM*WILDBERRIES\\MONEY.YANDEX.RU\\MOSKVA\\119021  ...</td>\n",
       "    </tr>\n",
       "    <tr>\n",
       "      <th>...</th>\n",
       "      <td>...</td>\n",
       "      <td>...</td>\n",
       "      <td>...</td>\n",
       "      <td>...</td>\n",
       "      <td>...</td>\n",
       "      <td>...</td>\n",
       "      <td>...</td>\n",
       "      <td>...</td>\n",
       "      <td>...</td>\n",
       "      <td>...</td>\n",
       "      <td>...</td>\n",
       "      <td>...</td>\n",
       "      <td>...</td>\n",
       "      <td>...</td>\n",
       "      <td>...</td>\n",
       "    </tr>\n",
       "    <tr>\n",
       "      <th>12845070</th>\n",
       "      <td>500000004694957908</td>\n",
       "      <td>82</td>\n",
       "      <td>18</td>\n",
       "      <td>45</td>\n",
       "      <td>1</td>\n",
       "      <td>6</td>\n",
       "      <td>3</td>\n",
       "      <td>2</td>\n",
       "      <td>150000</td>\n",
       "      <td>31.0</td>\n",
       "      <td>1</td>\n",
       "      <td>01.08.2021 19:54:34</td>\n",
       "      <td>5921</td>\n",
       "      <td>830</td>\n",
       "      <td>NaN</td>\n",
       "    </tr>\n",
       "    <tr>\n",
       "      <th>12845071</th>\n",
       "      <td>500000004694957908</td>\n",
       "      <td>82</td>\n",
       "      <td>18</td>\n",
       "      <td>45</td>\n",
       "      <td>1</td>\n",
       "      <td>6</td>\n",
       "      <td>3</td>\n",
       "      <td>2</td>\n",
       "      <td>150000</td>\n",
       "      <td>31.0</td>\n",
       "      <td>1</td>\n",
       "      <td>25.09.2021 18:48:31</td>\n",
       "      <td>4111</td>\n",
       "      <td>46</td>\n",
       "      <td>NaN</td>\n",
       "    </tr>\n",
       "    <tr>\n",
       "      <th>12845072</th>\n",
       "      <td>500000004694957908</td>\n",
       "      <td>82</td>\n",
       "      <td>18</td>\n",
       "      <td>45</td>\n",
       "      <td>1</td>\n",
       "      <td>6</td>\n",
       "      <td>3</td>\n",
       "      <td>2</td>\n",
       "      <td>150000</td>\n",
       "      <td>31.0</td>\n",
       "      <td>1</td>\n",
       "      <td>26.08.2021 11:52:19</td>\n",
       "      <td>4814</td>\n",
       "      <td>460</td>\n",
       "      <td>NaN</td>\n",
       "    </tr>\n",
       "    <tr>\n",
       "      <th>12845073</th>\n",
       "      <td>500000004694957908</td>\n",
       "      <td>82</td>\n",
       "      <td>18</td>\n",
       "      <td>45</td>\n",
       "      <td>1</td>\n",
       "      <td>6</td>\n",
       "      <td>3</td>\n",
       "      <td>2</td>\n",
       "      <td>150000</td>\n",
       "      <td>31.0</td>\n",
       "      <td>1</td>\n",
       "      <td>21.10.2021 16:23:46</td>\n",
       "      <td>5499</td>\n",
       "      <td>697</td>\n",
       "      <td>NaN</td>\n",
       "    </tr>\n",
       "    <tr>\n",
       "      <th>12845074</th>\n",
       "      <td>500000004694957908</td>\n",
       "      <td>82</td>\n",
       "      <td>18</td>\n",
       "      <td>45</td>\n",
       "      <td>1</td>\n",
       "      <td>6</td>\n",
       "      <td>3</td>\n",
       "      <td>2</td>\n",
       "      <td>150000</td>\n",
       "      <td>31.0</td>\n",
       "      <td>1</td>\n",
       "      <td>15.10.2021 21:48:58</td>\n",
       "      <td>5814</td>\n",
       "      <td>1208</td>\n",
       "      <td>NaN</td>\n",
       "    </tr>\n",
       "  </tbody>\n",
       "</table>\n",
       "<p>12845075 rows × 15 columns</p>\n",
       "</div>"
      ],
      "text/plain": [
       "                          ID  MM_IN_BANK  MM_W_CARD  AGE  GENDER   \n",
       "0         500000000000003702           5          5   35       2  \\\n",
       "1         500000000000003702           5          5   35       2   \n",
       "2         500000000000003702           5          5   35       2   \n",
       "3         500000000000003702           5          5   35       2   \n",
       "4         500000000000003702           5          5   35       2   \n",
       "...                      ...         ...        ...  ...     ...   \n",
       "12845070  500000004694957908          82         18   45       1   \n",
       "12845071  500000004694957908          82         18   45       1   \n",
       "12845072  500000004694957908          82         18   45       1   \n",
       "12845073  500000004694957908          82         18   45       1   \n",
       "12845074  500000004694957908          82         18   45       1   \n",
       "\n",
       "          EDUCATION_LEVEL  MARITAL_STATUS  DEPENDANT_CNT INCOME_MAIN_AMT   \n",
       "0                       3               3              0           87000  \\\n",
       "1                       3               3              0           87000   \n",
       "2                       3               3              0           87000   \n",
       "3                       3               3              0           87000   \n",
       "4                       3               3              0           87000   \n",
       "...                   ...             ...            ...             ...   \n",
       "12845070                6               3              2          150000   \n",
       "12845071                6               3              2          150000   \n",
       "12845072                6               3              2          150000   \n",
       "12845073                6               3              2          150000   \n",
       "12845074                6               3              2          150000   \n",
       "\n",
       "          REG_CODE  PROD_TYPE           TRANS_DTTM  MCC_CODE SUM_TRANS   \n",
       "0              9.0          2  31.10.2021 11:30:06      5462       106  \\\n",
       "1              9.0          2  22.10.2021 10:46:13      5921    226,96   \n",
       "2              9.0          2  05.09.2021 10:02:10      4121       102   \n",
       "3              9.0          2  13.10.2021 21:24:47      5691     21642   \n",
       "4              9.0          2  27.10.2021 19:47:16      5399      4026   \n",
       "...            ...        ...                  ...       ...       ...   \n",
       "12845070      31.0          1  01.08.2021 19:54:34      5921       830   \n",
       "12845071      31.0          1  25.09.2021 18:48:31      4111        46   \n",
       "12845072      31.0          1  26.08.2021 11:52:19      4814       460   \n",
       "12845073      31.0          1  21.10.2021 16:23:46      5499       697   \n",
       "12845074      31.0          1  15.10.2021 21:48:58      5814      1208   \n",
       "\n",
       "                                              LOCATION_NAME  \n",
       "0         BRECEL\\9A 8-J VOZDUSHNOJ ARMII STR\\VOLGOGRAD\\4...  \n",
       "1         KRASNOE BELOE\\14 8-J VOZDUSHNOJ ARMII STR\\VOLG...  \n",
       "2         YM UBER\\82 BLD 12 SADOVNICHESKAYA STR\\MOSCOW\\1...  \n",
       "3         WB\\6 BLD 1 INDUSTRIALNYJ PARK KOLEDINO TER\\POD...  \n",
       "4         YM*WILDBERRIES\\MONEY.YANDEX.RU\\MOSKVA\\119021  ...  \n",
       "...                                                     ...  \n",
       "12845070                                                NaN  \n",
       "12845071                                                NaN  \n",
       "12845072                                                NaN  \n",
       "12845073                                                NaN  \n",
       "12845074                                                NaN  \n",
       "\n",
       "[12845075 rows x 15 columns]"
      ]
     },
     "execution_count": 14,
     "metadata": {},
     "output_type": "execute_result"
    }
   ],
   "source": [
    "tk_merge = df.merge(tr1, how='outer')\n",
    "tk_merge"
   ]
  },
  {
   "cell_type": "code",
   "execution_count": 27,
   "id": "31455296",
   "metadata": {
    "id": "31455296"
   },
   "outputs": [],
   "source": [
    "#Приводим данный атрибут в числовой формат(в вещественные числа), в данном методе используем replace(заменяет запятую на точку) и astype(переводит в вещественный тип данных)\n",
    "tk_merge[\"INCOME_MAIN_AMT\"] = tk_merge[\"INCOME_MAIN_AMT\"].astype(str).str.replace(\",\", \".\").astype(float)"
   ]
  },
  {
   "cell_type": "code",
   "execution_count": 68,
   "id": "9f6187cd",
   "metadata": {
    "id": "9f6187cd",
    "outputId": "fb039879-f1bc-4200-fc9e-dd6fa174056f"
   },
   "outputs": [
    {
     "data": {
      "text/plain": [
       "<Axes: >"
      ]
     },
     "execution_count": 68,
     "metadata": {},
     "output_type": "execute_result"
    },
    {
     "data": {
      "image/png": "[encoded data removed]",
      "text/plain": [
       "<Figure size 2300x1500 with 2 Axes>"
      ]
     },
     "metadata": {},
     "output_type": "display_data"
    }
   ],
   "source": [
    "#\n",
    "plt.figure(figsize=(23, 15))\n",
    "sns.heatmap(tk_merge.corr(), annot = True, vmin=-1, vmax=1,cmap= 'coolwarm')"
   ]
  },
  {
   "cell_type": "markdown",
   "id": "5ec308db",
   "metadata": {
    "id": "5ec308db"
   },
   "source": [
    "На корреляционной карте выше видно, что довольно сильно коррелируют между собой атрибуты:<br>\n",
    "MATIRIAL_STATUS и EDUCATION_LEVEL<br>\n",
    "EDUCATION_LEVEL и DEPENDANT_CNT<br>\n",
    "MM_W_CARD и MM_IN_BANK<br>\n",
    "ID и MM_IN_BANK<br>"
   ]
  },
  {
   "cell_type": "code",
   "execution_count": 31,
   "id": "2c3d26ef",
   "metadata": {
    "id": "2c3d26ef",
    "outputId": "048f84b8-6412-4b3f-c9cf-ab6aef2b001d"
   },
   "outputs": [
    {
     "data": {
      "text/html": [
       "<div>\n",
       "<style scoped>\n",
       "    .dataframe tbody tr th:only-of-type {\n",
       "        vertical-align: middle;\n",
       "    }\n",
       "\n",
       "    .dataframe tbody tr th {\n",
       "        vertical-align: top;\n",
       "    }\n",
       "\n",
       "    .dataframe thead th {\n",
       "        text-align: right;\n",
       "    }\n",
       "</style>\n",
       "<table border=\"1\" class=\"dataframe\">\n",
       "  <thead>\n",
       "    <tr style=\"text-align: right;\">\n",
       "      <th></th>\n",
       "      <th>AGE</th>\n",
       "      <th>GENDER</th>\n",
       "      <th>EDUCATION_LEVEL</th>\n",
       "      <th>MARITAL_STATUS</th>\n",
       "      <th>INCOME_MAIN_AMT</th>\n",
       "      <th>REG_CODE</th>\n",
       "    </tr>\n",
       "  </thead>\n",
       "  <tbody>\n",
       "    <tr>\n",
       "      <th>0</th>\n",
       "      <td>35</td>\n",
       "      <td>2</td>\n",
       "      <td>3</td>\n",
       "      <td>3</td>\n",
       "      <td>87000.0</td>\n",
       "      <td>9.0</td>\n",
       "    </tr>\n",
       "    <tr>\n",
       "      <th>1</th>\n",
       "      <td>35</td>\n",
       "      <td>2</td>\n",
       "      <td>3</td>\n",
       "      <td>3</td>\n",
       "      <td>87000.0</td>\n",
       "      <td>9.0</td>\n",
       "    </tr>\n",
       "    <tr>\n",
       "      <th>2</th>\n",
       "      <td>35</td>\n",
       "      <td>2</td>\n",
       "      <td>3</td>\n",
       "      <td>3</td>\n",
       "      <td>87000.0</td>\n",
       "      <td>9.0</td>\n",
       "    </tr>\n",
       "    <tr>\n",
       "      <th>3</th>\n",
       "      <td>35</td>\n",
       "      <td>2</td>\n",
       "      <td>3</td>\n",
       "      <td>3</td>\n",
       "      <td>87000.0</td>\n",
       "      <td>9.0</td>\n",
       "    </tr>\n",
       "    <tr>\n",
       "      <th>4</th>\n",
       "      <td>35</td>\n",
       "      <td>2</td>\n",
       "      <td>3</td>\n",
       "      <td>3</td>\n",
       "      <td>87000.0</td>\n",
       "      <td>9.0</td>\n",
       "    </tr>\n",
       "    <tr>\n",
       "      <th>...</th>\n",
       "      <td>...</td>\n",
       "      <td>...</td>\n",
       "      <td>...</td>\n",
       "      <td>...</td>\n",
       "      <td>...</td>\n",
       "      <td>...</td>\n",
       "    </tr>\n",
       "    <tr>\n",
       "      <th>12845070</th>\n",
       "      <td>45</td>\n",
       "      <td>1</td>\n",
       "      <td>6</td>\n",
       "      <td>3</td>\n",
       "      <td>150000.0</td>\n",
       "      <td>31.0</td>\n",
       "    </tr>\n",
       "    <tr>\n",
       "      <th>12845071</th>\n",
       "      <td>45</td>\n",
       "      <td>1</td>\n",
       "      <td>6</td>\n",
       "      <td>3</td>\n",
       "      <td>150000.0</td>\n",
       "      <td>31.0</td>\n",
       "    </tr>\n",
       "    <tr>\n",
       "      <th>12845072</th>\n",
       "      <td>45</td>\n",
       "      <td>1</td>\n",
       "      <td>6</td>\n",
       "      <td>3</td>\n",
       "      <td>150000.0</td>\n",
       "      <td>31.0</td>\n",
       "    </tr>\n",
       "    <tr>\n",
       "      <th>12845073</th>\n",
       "      <td>45</td>\n",
       "      <td>1</td>\n",
       "      <td>6</td>\n",
       "      <td>3</td>\n",
       "      <td>150000.0</td>\n",
       "      <td>31.0</td>\n",
       "    </tr>\n",
       "    <tr>\n",
       "      <th>12845074</th>\n",
       "      <td>45</td>\n",
       "      <td>1</td>\n",
       "      <td>6</td>\n",
       "      <td>3</td>\n",
       "      <td>150000.0</td>\n",
       "      <td>31.0</td>\n",
       "    </tr>\n",
       "  </tbody>\n",
       "</table>\n",
       "<p>12845075 rows × 6 columns</p>\n",
       "</div>"
      ],
      "text/plain": [
       "          AGE  GENDER  EDUCATION_LEVEL  MARITAL_STATUS  INCOME_MAIN_AMT   \n",
       "0          35       2                3               3          87000.0  \\\n",
       "1          35       2                3               3          87000.0   \n",
       "2          35       2                3               3          87000.0   \n",
       "3          35       2                3               3          87000.0   \n",
       "4          35       2                3               3          87000.0   \n",
       "...       ...     ...              ...             ...              ...   \n",
       "12845070   45       1                6               3         150000.0   \n",
       "12845071   45       1                6               3         150000.0   \n",
       "12845072   45       1                6               3         150000.0   \n",
       "12845073   45       1                6               3         150000.0   \n",
       "12845074   45       1                6               3         150000.0   \n",
       "\n",
       "          REG_CODE  \n",
       "0              9.0  \n",
       "1              9.0  \n",
       "2              9.0  \n",
       "3              9.0  \n",
       "4              9.0  \n",
       "...            ...  \n",
       "12845070      31.0  \n",
       "12845071      31.0  \n",
       "12845072      31.0  \n",
       "12845073      31.0  \n",
       "12845074      31.0  \n",
       "\n",
       "[12845075 rows x 6 columns]"
      ]
     },
     "execution_count": 31,
     "metadata": {},
     "output_type": "execute_result"
    }
   ],
   "source": [
    "tk_merge = tk_merge[['AGE', 'GENDER', 'EDUCATION_LEVEL', 'MARITAL_STATUS', 'INCOME_MAIN_AMT', 'REG_CODE']]\n",
    "tk_merge"
   ]
  },
  {
   "cell_type": "markdown",
   "id": "4a0711e8",
   "metadata": {
    "id": "4a0711e8"
   },
   "source": [
    "### 1.3 Предварительная обработка данных  "
   ]
  },
  {
   "cell_type": "code",
   "execution_count": 32,
   "id": "78a3a052",
   "metadata": {
    "id": "78a3a052",
    "outputId": "b25bbeb1-02a4-4c08-950d-070d3be6fa07"
   },
   "outputs": [
    {
     "name": "stderr",
     "output_type": "stream",
     "text": [
      "C:\\Users\\Admin\\AppData\\Local\\Temp\\ipykernel_16892\\2406382651.py:2: SettingWithCopyWarning: \n",
      "A value is trying to be set on a copy of a slice from a DataFrame\n",
      "\n",
      "See the caveats in the documentation: https://pandas.pydata.org/pandas-docs/stable/user_guide/indexing.html#returning-a-view-versus-a-copy\n",
      "  tk_merge.dropna(inplace=True)\n"
     ]
    }
   ],
   "source": [
    "#Выполним очистку от NaN \n",
    "tk_merge.dropna(inplace=True)\n",
    "tk_merge.reset_index(drop=True, inplace=True)"
   ]
  },
  {
   "cell_type": "code",
   "execution_count": 33,
   "id": "28de8466",
   "metadata": {
    "id": "28de8466",
    "outputId": "acc8bc08-8e1e-4d10-9299-9655e507751c",
    "scrolled": false
   },
   "outputs": [
    {
     "data": {
      "image/png": "[encoded data removed]",
      "text/plain": [
       "<Figure size 640x480 with 1 Axes>"
      ]
     },
     "metadata": {},
     "output_type": "display_data"
    },
    {
     "data": {
      "image/png": "[encoded data removed]",
      "text/plain": [
       "<Figure size 640x480 with 1 Axes>"
      ]
     },
     "metadata": {},
     "output_type": "display_data"
    },
    {
     "data": {
      "image/png": "[encoded data removed]",
      "text/plain": [
       "<Figure size 640x480 with 1 Axes>"
      ]
     },
     "metadata": {},
     "output_type": "display_data"
    },
    {
     "data": {
      "image/png": "[encoded data removed]",
      "text/plain": [
       "<Figure size 640x480 with 1 Axes>"
      ]
     },
     "metadata": {},
     "output_type": "display_data"
    },
    {
     "data": {
      "image/png": "[encoded data removed]",
      "text/plain": [
       "<Figure size 640x480 with 1 Axes>"
      ]
     },
     "metadata": {},
     "output_type": "display_data"
    },
    {
     "data": {
      "image/png": "[encoded data removed]",
      "text/plain": [
       "<Figure size 640x480 with 1 Axes>"
      ]
     },
     "metadata": {},
     "output_type": "display_data"
    }
   ],
   "source": [
    "#Вывод коробчатых диаграм в цикле только по числовым атриубтам\n",
    "for col in tk_merge.select_dtypes(exclude=[\"object\", \"datetime64[ns]\"]).columns:\n",
    "    #построение фигуры\n",
    "    plt.figure()\n",
    "    #Заголовк\n",
    "    plt.title(col)\n",
    "    #Вывод диаграммы\n",
    "    plt.boxplot(df[col])\n",
    "    plt.show()"
   ]
  },
  {
   "cell_type": "code",
   "execution_count": 34,
   "id": "f8a0230c",
   "metadata": {
    "id": "f8a0230c"
   },
   "outputs": [],
   "source": [
    "#Вывод коробчатых диаграм в цикле только по числовым атриубтам\n",
    "for col in tk_merge.select_dtypes(exclude=[\"object\", \"datetime64[ns]\"]).columns:\n",
    "    Q1 = df[col].quantile(0.25)\n",
    "    Q3 = df[col].quantile(0.75)\n",
    "    IQR = Q3 - Q1    #IQR is interquartile range. \n",
    "\n",
    "    filter = (tk_merge[col] >= Q1 - 1.5 * IQR) & (tk_merge[col] <= Q3 + 1.5 *IQR)\n",
    "    tk_merge = tk_merge.loc[filter]  "
   ]
  },
  {
   "cell_type": "code",
   "execution_count": 10,
   "id": "78a9fd3e",
   "metadata": {
    "id": "78a9fd3e",
    "outputId": "a3329da9-f8ed-48c0-ded3-037476800b46",
    "scrolled": false
   },
   "outputs": [
    {
     "data": {
      "image/png": "[encoded data removed]",
      "text/plain": [
       "<Figure size 640x480 with 1 Axes>"
      ]
     },
     "metadata": {},
     "output_type": "display_data"
    },
    {
     "data": {
      "image/png": "[encoded data removed]",
      "text/plain": [
       "<Figure size 640x480 with 1 Axes>"
      ]
     },
     "metadata": {},
     "output_type": "display_data"
    },
    {
     "data": {
      "image/png": "[encoded data removed]",
      "text/plain": [
       "<Figure size 640x480 with 1 Axes>"
      ]
     },
     "metadata": {},
     "output_type": "display_data"
    },
    {
     "data": {
      "image/png": "[encoded data removed]",
      "text/plain": [
       "<Figure size 640x480 with 1 Axes>"
      ]
     },
     "metadata": {},
     "output_type": "display_data"
    },
    {
     "data": {
      "image/png": "[encoded data removed]",
      "text/plain": [
       "<Figure size 640x480 with 1 Axes>"
      ]
     },
     "metadata": {},
     "output_type": "display_data"
    },
    {
     "data": {
      "image/png": "[encoded data removed]",
      "text/plain": [
       "<Figure size 640x480 with 1 Axes>"
      ]
     },
     "metadata": {},
     "output_type": "display_data"
    }
   ],
   "source": [
    "#Вывод коробчатых диаграм в цикле только по числовым атриубтам\n",
    "for col in df.select_dtypes(exclude=[\"object\", \"datetime64[ns]\"]).columns:\n",
    "    #построение фигуры\n",
    "    plt.figure()\n",
    "    #Заголовк\n",
    "    plt.title(col)\n",
    "    #Вывод диаграммы\n",
    "    plt.boxplot(df[col])\n",
    "    plt.show()"
   ]
  },
  {
   "cell_type": "markdown",
   "id": "7c1cad41",
   "metadata": {
    "id": "7c1cad41"
   },
   "source": [
    "У атрибута 'INCOME_MAIN_AMT' можно увидеть небольшое отклонение от того что было, но это уже приемлимо"
   ]
  },
  {
   "cell_type": "markdown",
   "id": "d84ccb48",
   "metadata": {
    "id": "d84ccb48"
   },
   "source": [
    "### 1.4 Формирование дополнительных атрибутов"
   ]
  },
  {
   "cell_type": "markdown",
   "id": "d7eee613",
   "metadata": {
    "id": "d7eee613"
   },
   "source": [
    "Перевод из рублей в доллары"
   ]
  },
  {
   "cell_type": "code",
   "execution_count": 35,
   "id": "cbb00a0e",
   "metadata": {
    "id": "cbb00a0e"
   },
   "outputs": [],
   "source": [
    "tk_merge['INCOME_MAIN_AMT_EUR'] = tk_merge['INCOME_MAIN_AMT'].apply(lambda x: x / 80)"
   ]
  },
  {
   "cell_type": "code",
   "execution_count": 36,
   "id": "cfe35201",
   "metadata": {},
   "outputs": [],
   "source": [
    "tk_merge['INCOME_MAIN_AMT_CNY'] = tk_merge['INCOME_MAIN_AMT'].apply(lambda x: x / 11)"
   ]
  },
  {
   "cell_type": "code",
   "execution_count": 37,
   "id": "6a952221",
   "metadata": {
    "id": "6a952221",
    "outputId": "b5dd17f7-7741-4120-f01f-15e5ab0760fb"
   },
   "outputs": [
    {
     "data": {
      "text/html": [
       "<div>\n",
       "<style scoped>\n",
       "    .dataframe tbody tr th:only-of-type {\n",
       "        vertical-align: middle;\n",
       "    }\n",
       "\n",
       "    .dataframe tbody tr th {\n",
       "        vertical-align: top;\n",
       "    }\n",
       "\n",
       "    .dataframe thead th {\n",
       "        text-align: right;\n",
       "    }\n",
       "</style>\n",
       "<table border=\"1\" class=\"dataframe\">\n",
       "  <thead>\n",
       "    <tr style=\"text-align: right;\">\n",
       "      <th></th>\n",
       "      <th>AGE</th>\n",
       "      <th>GENDER</th>\n",
       "      <th>EDUCATION_LEVEL</th>\n",
       "      <th>MARITAL_STATUS</th>\n",
       "      <th>INCOME_MAIN_AMT</th>\n",
       "      <th>REG_CODE</th>\n",
       "      <th>INCOME_MAIN_AMT_EUR</th>\n",
       "      <th>INCOME_MAIN_AMT_CNY</th>\n",
       "    </tr>\n",
       "  </thead>\n",
       "  <tbody>\n",
       "    <tr>\n",
       "      <th>0</th>\n",
       "      <td>35</td>\n",
       "      <td>2</td>\n",
       "      <td>3</td>\n",
       "      <td>3</td>\n",
       "      <td>87000.0</td>\n",
       "      <td>9.0</td>\n",
       "      <td>1087.5</td>\n",
       "      <td>7909.090909</td>\n",
       "    </tr>\n",
       "    <tr>\n",
       "      <th>1</th>\n",
       "      <td>35</td>\n",
       "      <td>2</td>\n",
       "      <td>3</td>\n",
       "      <td>3</td>\n",
       "      <td>87000.0</td>\n",
       "      <td>9.0</td>\n",
       "      <td>1087.5</td>\n",
       "      <td>7909.090909</td>\n",
       "    </tr>\n",
       "    <tr>\n",
       "      <th>2</th>\n",
       "      <td>35</td>\n",
       "      <td>2</td>\n",
       "      <td>3</td>\n",
       "      <td>3</td>\n",
       "      <td>87000.0</td>\n",
       "      <td>9.0</td>\n",
       "      <td>1087.5</td>\n",
       "      <td>7909.090909</td>\n",
       "    </tr>\n",
       "    <tr>\n",
       "      <th>3</th>\n",
       "      <td>35</td>\n",
       "      <td>2</td>\n",
       "      <td>3</td>\n",
       "      <td>3</td>\n",
       "      <td>87000.0</td>\n",
       "      <td>9.0</td>\n",
       "      <td>1087.5</td>\n",
       "      <td>7909.090909</td>\n",
       "    </tr>\n",
       "    <tr>\n",
       "      <th>4</th>\n",
       "      <td>35</td>\n",
       "      <td>2</td>\n",
       "      <td>3</td>\n",
       "      <td>3</td>\n",
       "      <td>87000.0</td>\n",
       "      <td>9.0</td>\n",
       "      <td>1087.5</td>\n",
       "      <td>7909.090909</td>\n",
       "    </tr>\n",
       "    <tr>\n",
       "      <th>...</th>\n",
       "      <td>...</td>\n",
       "      <td>...</td>\n",
       "      <td>...</td>\n",
       "      <td>...</td>\n",
       "      <td>...</td>\n",
       "      <td>...</td>\n",
       "      <td>...</td>\n",
       "      <td>...</td>\n",
       "    </tr>\n",
       "    <tr>\n",
       "      <th>6382671</th>\n",
       "      <td>44</td>\n",
       "      <td>2</td>\n",
       "      <td>1</td>\n",
       "      <td>1</td>\n",
       "      <td>58000.0</td>\n",
       "      <td>26.0</td>\n",
       "      <td>725.0</td>\n",
       "      <td>5272.727273</td>\n",
       "    </tr>\n",
       "    <tr>\n",
       "      <th>6382672</th>\n",
       "      <td>44</td>\n",
       "      <td>2</td>\n",
       "      <td>1</td>\n",
       "      <td>1</td>\n",
       "      <td>58000.0</td>\n",
       "      <td>26.0</td>\n",
       "      <td>725.0</td>\n",
       "      <td>5272.727273</td>\n",
       "    </tr>\n",
       "    <tr>\n",
       "      <th>6382673</th>\n",
       "      <td>44</td>\n",
       "      <td>2</td>\n",
       "      <td>1</td>\n",
       "      <td>1</td>\n",
       "      <td>58000.0</td>\n",
       "      <td>26.0</td>\n",
       "      <td>725.0</td>\n",
       "      <td>5272.727273</td>\n",
       "    </tr>\n",
       "    <tr>\n",
       "      <th>6382674</th>\n",
       "      <td>44</td>\n",
       "      <td>2</td>\n",
       "      <td>1</td>\n",
       "      <td>1</td>\n",
       "      <td>58000.0</td>\n",
       "      <td>26.0</td>\n",
       "      <td>725.0</td>\n",
       "      <td>5272.727273</td>\n",
       "    </tr>\n",
       "    <tr>\n",
       "      <th>6382675</th>\n",
       "      <td>44</td>\n",
       "      <td>2</td>\n",
       "      <td>1</td>\n",
       "      <td>1</td>\n",
       "      <td>58000.0</td>\n",
       "      <td>26.0</td>\n",
       "      <td>725.0</td>\n",
       "      <td>5272.727273</td>\n",
       "    </tr>\n",
       "  </tbody>\n",
       "</table>\n",
       "<p>4312130 rows × 8 columns</p>\n",
       "</div>"
      ],
      "text/plain": [
       "         AGE  GENDER  EDUCATION_LEVEL  MARITAL_STATUS  INCOME_MAIN_AMT   \n",
       "0         35       2                3               3          87000.0  \\\n",
       "1         35       2                3               3          87000.0   \n",
       "2         35       2                3               3          87000.0   \n",
       "3         35       2                3               3          87000.0   \n",
       "4         35       2                3               3          87000.0   \n",
       "...      ...     ...              ...             ...              ...   \n",
       "6382671   44       2                1               1          58000.0   \n",
       "6382672   44       2                1               1          58000.0   \n",
       "6382673   44       2                1               1          58000.0   \n",
       "6382674   44       2                1               1          58000.0   \n",
       "6382675   44       2                1               1          58000.0   \n",
       "\n",
       "         REG_CODE  INCOME_MAIN_AMT_EUR  INCOME_MAIN_AMT_CNY  \n",
       "0             9.0               1087.5          7909.090909  \n",
       "1             9.0               1087.5          7909.090909  \n",
       "2             9.0               1087.5          7909.090909  \n",
       "3             9.0               1087.5          7909.090909  \n",
       "4             9.0               1087.5          7909.090909  \n",
       "...           ...                  ...                  ...  \n",
       "6382671      26.0                725.0          5272.727273  \n",
       "6382672      26.0                725.0          5272.727273  \n",
       "6382673      26.0                725.0          5272.727273  \n",
       "6382674      26.0                725.0          5272.727273  \n",
       "6382675      26.0                725.0          5272.727273  \n",
       "\n",
       "[4312130 rows x 8 columns]"
      ]
     },
     "execution_count": 37,
     "metadata": {},
     "output_type": "execute_result"
    }
   ],
   "source": [
    "tk_merge"
   ]
  },
  {
   "cell_type": "markdown",
   "id": "abd80881",
   "metadata": {},
   "source": [
    "Был создан дополнительный атрибут, который демонстрирует курс рубля к юаням."
   ]
  },
  {
   "cell_type": "markdown",
   "id": "4424c5f2",
   "metadata": {
    "id": "4424c5f2"
   },
   "source": [
    "### 1.5 Кластеризация"
   ]
  },
  {
   "cell_type": "markdown",
   "id": "fd0e3f34",
   "metadata": {
    "id": "fd0e3f34"
   },
   "source": [
    "Подготовка данных\n",
    "Отдельно возьму атрибуты, которые буду визуализировать"
   ]
  },
  {
   "cell_type": "code",
   "execution_count": 39,
   "id": "8446a58c",
   "metadata": {
    "id": "8446a58c"
   },
   "outputs": [],
   "source": [
    "#Помещу их в переменную X\n",
    "X = tk_merge[[\"AGE\", \"GENDER\", \"EDUCATION_LEVEL\"]]"
   ]
  },
  {
   "cell_type": "markdown",
   "id": "cd609787",
   "metadata": {
    "id": "cd609787"
   },
   "source": [
    "Я выбрал эти атрибуты, так как в зависимости от региона и категории товара (продовца) стоимость покупок будет разной и я считаю, что этих атрибутов будет достаточно что бы модель не имела проблем с переобучением и недообучением"
   ]
  },
  {
   "cell_type": "markdown",
   "id": "5b49b8d6",
   "metadata": {
    "id": "5b49b8d6"
   },
   "source": [
    "#### MinMaxScaler\n",
    "Преобразование характеристик путем масштабирования каждой характеристики в заданном диапазоне. Этот оценщик масштабирует и переводит каждый признак в отдельности таким образом,чтобы он находился в заданном диапазоне на обучающем множестве,например,между нулем и единицей.\n"
   ]
  },
  {
   "cell_type": "code",
   "execution_count": 40,
   "id": "7f442e37",
   "metadata": {
    "id": "7f442e37"
   },
   "outputs": [],
   "source": [
    "#обьявляю MinMaxScaler\n",
    "scaler = MinMaxScaler()\n",
    "#преобразую данные\n",
    "X = scaler.fit_transform(X)"
   ]
  },
  {
   "cell_type": "markdown",
   "id": "00cd21a2",
   "metadata": {
    "id": "00cd21a2"
   },
   "source": [
    "#### PCA\n",
    "Метод главных компонент — один из основных способов уменьшить размерность данных, потеряв наименьшее количество информации."
   ]
  },
  {
   "cell_type": "code",
   "execution_count": 41,
   "id": "170b007b",
   "metadata": {
    "id": "170b007b"
   },
   "outputs": [],
   "source": [
    "#Обьявляю метод главных компонент\n",
    "pca = PCA(n_components=2)\n",
    "#Применяю его на данных\n",
    "X = pca.fit_transform(X)"
   ]
  },
  {
   "cell_type": "markdown",
   "id": "2b163311",
   "metadata": {
    "id": "2b163311"
   },
   "source": [
    "#### Функция визуализации\n",
    "Отдельно вынесу функцию для визуализации"
   ]
  },
  {
   "cell_type": "code",
   "execution_count": 42,
   "id": "75e45801",
   "metadata": {
    "id": "75e45801"
   },
   "outputs": [],
   "source": [
    "#Функция для визуализации распределения \n",
    "def viz(prediction):\n",
    "    #Размер фигуры\n",
    "    plt.figure(figsize=(12, 12))\n",
    "    plt.subplot(224)\n",
    "    #Выводить изображение буду при помощи scatter\n",
    "    plt.scatter(X[:, 0], X[:, 1], c=prediction)\n",
    "    plt.title(\"Unevenly Sized Blobs\")\n",
    "    #Вывод изображения\n",
    "    plt.show()"
   ]
  },
  {
   "cell_type": "markdown",
   "id": "fb5d4ec7",
   "metadata": {
    "id": "fb5d4ec7"
   },
   "source": [
    "#### Выбор алгоритмов (KMeans, MiniBatchKMeans, GaussianMixtures)\n",
    "Я решил взять алгоритмы KMeans, MiniBatchKMeans и GaussianMixtures, так как они идеально подходят для такого набора данных, они сочетают в себе скорость работы, а так же качество кластеризации"
   ]
  },
  {
   "cell_type": "markdown",
   "id": "096ed226",
   "metadata": {
    "id": "096ed226"
   },
   "source": [
    "#### KMeans"
   ]
  },
  {
   "cell_type": "code",
   "execution_count": 43,
   "id": "1e0c7047",
   "metadata": {
    "id": "1e0c7047",
    "outputId": "436828aa-e8b1-461c-b068-eb9a0ff669d9"
   },
   "outputs": [
    {
     "name": "stderr",
     "output_type": "stream",
     "text": [
      "C:\\Users\\Admin\\AppData\\Local\\Programs\\Python\\Python311\\Lib\\site-packages\\sklearn\\cluster\\_kmeans.py:870: FutureWarning: The default value of `n_init` will change from 10 to 'auto' in 1.4. Set the value of `n_init` explicitly to suppress the warning\n",
      "  warnings.warn(\n"
     ]
    },
    {
     "data": {
      "image/png": "[encoded data removed]",
      "text/plain": [
       "<Figure size 1200x1200 with 1 Axes>"
      ]
     },
     "metadata": {},
     "output_type": "display_data"
    }
   ],
   "source": [
    "#Настройка параметров\n",
    "kmeans = KMeans(n_clusters=4, random_state=0).fit(X)\n",
    "#Предсказание\n",
    "kmpreds = kmeans.predict(X)\n",
    "#Заношу кластеризированные метки в набор данных\n",
    "tk_merge[\"KMCLUSTS\"] = kmpreds\n",
    "\n",
    "#Применяю функцию описаную выше\n",
    "viz(tk_merge[\"KMCLUSTS\"])"
   ]
  },
  {
   "cell_type": "markdown",
   "id": "b093a672",
   "metadata": {
    "id": "b093a672"
   },
   "source": [
    "#### MiniBatchKMeans"
   ]
  },
  {
   "cell_type": "code",
   "execution_count": 45,
   "id": "311e0397",
   "metadata": {
    "id": "311e0397",
    "outputId": "81663487-4cf1-4a88-ffe3-71f3822733f5"
   },
   "outputs": [
    {
     "name": "stderr",
     "output_type": "stream",
     "text": [
      "C:\\Users\\Admin\\AppData\\Local\\Programs\\Python\\Python311\\Lib\\site-packages\\sklearn\\cluster\\_kmeans.py:870: FutureWarning: The default value of `n_init` will change from 3 to 'auto' in 1.4. Set the value of `n_init` explicitly to suppress the warning\n",
      "  warnings.warn(\n"
     ]
    },
    {
     "data": {
      "image/png": "[encoded data removed]",
      "text/plain": [
       "<Figure size 1200x1200 with 1 Axes>"
      ]
     },
     "metadata": {},
     "output_type": "display_data"
    }
   ],
   "source": [
    "#Настройка параметров\n",
    "kbmeans = MiniBatchKMeans(n_clusters=4, random_state=0, batch_size=4096)\n",
    "#Заношу кластеризированные метки в набор данных\n",
    "tk_merge[\"KBCLUSTS\"] = kbmeans.fit_predict(X)\n",
    "\n",
    "viz(tk_merge[\"KBCLUSTS\"])"
   ]
  },
  {
   "cell_type": "markdown",
   "id": "a8587a18",
   "metadata": {
    "id": "a8587a18"
   },
   "source": [
    "#### GaussianMixture"
   ]
  },
  {
   "cell_type": "code",
   "execution_count": 46,
   "id": "528f3ea4",
   "metadata": {
    "id": "528f3ea4",
    "outputId": "19046714-a0a9-4776-c710-2ad6ad7d29f3"
   },
   "outputs": [
    {
     "data": {
      "image/png": "[encoded data removed]",
      "text/plain": [
       "<Figure size 1200x1200 with 1 Axes>"
      ]
     },
     "metadata": {},
     "output_type": "display_data"
    }
   ],
   "source": [
    "#Настройка параметров\n",
    "gm = GaussianMixture(n_components=2, random_state=0).fit_predict(X)\n",
    "#Заношу кластеризированные метки в набор данных\n",
    "tk_merge[\"GMCLUSTS\"] = gm\n",
    "\n",
    "viz(tk_merge[\"GMCLUSTS\"])"
   ]
  },
  {
   "cell_type": "markdown",
   "id": "5bd01c21",
   "metadata": {
    "id": "5bd01c21"
   },
   "source": [
    "#### Результаты метрик"
   ]
  },
  {
   "cell_type": "markdown",
   "id": "d5bd594e",
   "metadata": {
    "id": "d5bd594e"
   },
   "source": [
    "##### Kmeans "
   ]
  },
  {
   "cell_type": "code",
   "execution_count": 47,
   "id": "3938baec",
   "metadata": {
    "id": "3938baec",
    "outputId": "00bf1593-f4ee-4ad1-990e-2171c08bd185",
    "scrolled": true
   },
   "outputs": [
    {
     "name": "stdout",
     "output_type": "stream",
     "text": [
      "24401688.00262128\n",
      "0.41233873626910694\n"
     ]
    }
   ],
   "source": [
    "#Использую метрику calinski_harabasz_score\n",
    "print(sklearn.metrics.calinski_harabasz_score(X, tk_merge[\"KMCLUSTS\"]))\n",
    "#Использую метрику davies_bouldin_score\n",
    "print(sklearn.metrics.davies_bouldin_score(X, tk_merge[\"KMCLUSTS\"]))"
   ]
  },
  {
   "cell_type": "markdown",
   "id": "394ff66c",
   "metadata": {
    "id": "394ff66c"
   },
   "source": [
    "##### MiniBatchKmeans\n"
   ]
  },
  {
   "cell_type": "code",
   "execution_count": 48,
   "id": "ba658dc8",
   "metadata": {
    "id": "ba658dc8",
    "outputId": "232f9b31-cdab-41f7-97c3-b54a7d8dcf99"
   },
   "outputs": [
    {
     "name": "stdout",
     "output_type": "stream",
     "text": [
      "24401688.00262128\n",
      "0.4123387362691069\n"
     ]
    }
   ],
   "source": [
    "#Использую метрику calinski_harabasz_score\n",
    "print(sklearn.metrics.calinski_harabasz_score(X, tk_merge[\"KBCLUSTS\"]))\n",
    "#Использую метрику davies_bouldin_score\n",
    "print(sklearn.metrics.davies_bouldin_score(X, tk_merge[\"KBCLUSTS\"]))"
   ]
  },
  {
   "cell_type": "markdown",
   "id": "4b2100b5",
   "metadata": {
    "id": "4b2100b5"
   },
   "source": [
    "##### GussianMixture"
   ]
  },
  {
   "cell_type": "code",
   "execution_count": 49,
   "id": "b7b04853",
   "metadata": {
    "id": "b7b04853",
    "outputId": "35a0a505-16c2-40ff-b5d1-0465bf674b38"
   },
   "outputs": [
    {
     "name": "stdout",
     "output_type": "stream",
     "text": [
      "11026038.476010824\n",
      "0.5320516376042049\n"
     ]
    }
   ],
   "source": [
    "#Использую метрику calinski_harabasz_score\n",
    "print(sklearn.metrics.calinski_harabasz_score(X, tk_merge[\"GMCLUSTS\"]))\n",
    "#Использую метрику davies_bouldin_score\n",
    "print(sklearn.metrics.davies_bouldin_score(X, tk_merge[\"GMCLUSTS\"]))"
   ]
  },
  {
   "cell_type": "markdown",
   "id": "45b3c14b",
   "metadata": {
    "id": "45b3c14b"
   },
   "source": [
    "#### Решение\n",
    "По результатам метрик и визуализаций, лучшим алгоритмом является GussianMixture"
   ]
  },
  {
   "cell_type": "code",
   "execution_count": 50,
   "id": "5f098d37",
   "metadata": {
    "id": "5f098d37"
   },
   "outputs": [],
   "source": [
    "# Удаление ненужных атрибутов с кластерами\n",
    "tk_merge.drop(columns=['KMCLUSTS', 'KBCLUSTS'], axis=1, inplace=True)"
   ]
  },
  {
   "cell_type": "markdown",
   "id": "84dd1d49",
   "metadata": {
    "id": "84dd1d49"
   },
   "source": [
    "### 1.6 Подготовка отчета"
   ]
  },
  {
   "cell_type": "markdown",
   "id": "94e0af04",
   "metadata": {
    "id": "94e0af04"
   },
   "source": [
    "Тут отчет по пунктам сами напишите...<br>\n",
    "Нужно указать что было под пунктами:\n",
    "* 1 - \n",
    "* 2 - \n",
    "* 3 - \n",
    "* 4 -\n",
    "* И тд..."
   ]
  },
  {
   "cell_type": "code",
   "execution_count": 33,
   "id": "c9dc6ee7",
   "metadata": {
    "id": "c9dc6ee7"
   },
   "outputs": [],
   "source": [
    "#df.to_csv('output.csv', index=False, encoding='utf-8-sig')"
   ]
  },
  {
   "cell_type": "markdown",
   "id": "50263270",
   "metadata": {
    "id": "50263270"
   },
   "source": [
    "--------------"
   ]
  },
  {
   "cell_type": "markdown",
   "id": "fe5a5899",
   "metadata": {
    "id": "fe5a5899"
   },
   "source": [
    "# Модуль 2"
   ]
  },
  {
   "cell_type": "markdown",
   "id": "a576d183",
   "metadata": {
    "id": "a576d183"
   },
   "source": [
    "-------------"
   ]
  },
  {
   "cell_type": "code",
   "execution_count": 54,
   "id": "031f7703",
   "metadata": {
    "id": "031f7703"
   },
   "outputs": [],
   "source": [
    "import sklearn\n",
    "import numpy as np\n",
    "import pandas as pd\n",
    "import seaborn as sns\n",
    "import matplotlib.pyplot as plt\n",
    "from sklearn.preprocessing import MinMaxScaler\n",
    "from sklearn.metrics import classification_report\n",
    "from sklearn.model_selection import train_test_split\n",
    "\n",
    "# Алгоритмы классификации\n",
    "from sklearn.naive_bayes import GaussianNB\n",
    "from sklearn.neighbors import KNeighborsClassifier\n",
    "from sklearn.linear_model import LogisticRegression\n",
    "\n",
    "# Игнорирование ошибок будущих версий\n",
    "from warnings import simplefilter\n",
    "simplefilter(action='ignore', category=FutureWarning)"
   ]
  },
  {
   "cell_type": "code",
   "execution_count": 60,
   "id": "cd7c6c2e",
   "metadata": {
    "id": "cd7c6c2e"
   },
   "outputs": [],
   "source": [
    " #df = pd.read_csv('output.csv')\n"
   ]
  },
  {
   "cell_type": "markdown",
   "id": "f799ee62",
   "metadata": {
    "id": "f799ee62"
   },
   "source": [
    "### 2.1 Разведочный анализ"
   ]
  },
  {
   "cell_type": "code",
   "execution_count": 65,
   "id": "dee95ef2",
   "metadata": {
    "id": "dee95ef2",
    "outputId": "437dd781-3e11-4ee4-fd0f-8e61b970fe69"
   },
   "outputs": [
    {
     "data": {
      "text/html": [
       "<div>\n",
       "<style scoped>\n",
       "    .dataframe tbody tr th:only-of-type {\n",
       "        vertical-align: middle;\n",
       "    }\n",
       "\n",
       "    .dataframe tbody tr th {\n",
       "        vertical-align: top;\n",
       "    }\n",
       "\n",
       "    .dataframe thead th {\n",
       "        text-align: right;\n",
       "    }\n",
       "</style>\n",
       "<table border=\"1\" class=\"dataframe\">\n",
       "  <thead>\n",
       "    <tr style=\"text-align: right;\">\n",
       "      <th></th>\n",
       "      <th>AGE</th>\n",
       "      <th>GENDER</th>\n",
       "      <th>EDUCATION_LEVEL</th>\n",
       "      <th>MARITAL_STATUS</th>\n",
       "      <th>INCOME_MAIN_AMT</th>\n",
       "      <th>REG_CODE</th>\n",
       "      <th>INCOME_MAIN_AMT_EUR</th>\n",
       "      <th>INCOME_MAIN_AMT_CNY</th>\n",
       "      <th>GMCLUSTS</th>\n",
       "    </tr>\n",
       "  </thead>\n",
       "  <tbody>\n",
       "    <tr>\n",
       "      <th>0</th>\n",
       "      <td>35</td>\n",
       "      <td>2</td>\n",
       "      <td>3</td>\n",
       "      <td>3</td>\n",
       "      <td>87000.0</td>\n",
       "      <td>9.0</td>\n",
       "      <td>1087.5</td>\n",
       "      <td>7909.090909</td>\n",
       "      <td>1</td>\n",
       "    </tr>\n",
       "    <tr>\n",
       "      <th>1</th>\n",
       "      <td>35</td>\n",
       "      <td>2</td>\n",
       "      <td>3</td>\n",
       "      <td>3</td>\n",
       "      <td>87000.0</td>\n",
       "      <td>9.0</td>\n",
       "      <td>1087.5</td>\n",
       "      <td>7909.090909</td>\n",
       "      <td>1</td>\n",
       "    </tr>\n",
       "    <tr>\n",
       "      <th>2</th>\n",
       "      <td>35</td>\n",
       "      <td>2</td>\n",
       "      <td>3</td>\n",
       "      <td>3</td>\n",
       "      <td>87000.0</td>\n",
       "      <td>9.0</td>\n",
       "      <td>1087.5</td>\n",
       "      <td>7909.090909</td>\n",
       "      <td>1</td>\n",
       "    </tr>\n",
       "    <tr>\n",
       "      <th>3</th>\n",
       "      <td>35</td>\n",
       "      <td>2</td>\n",
       "      <td>3</td>\n",
       "      <td>3</td>\n",
       "      <td>87000.0</td>\n",
       "      <td>9.0</td>\n",
       "      <td>1087.5</td>\n",
       "      <td>7909.090909</td>\n",
       "      <td>1</td>\n",
       "    </tr>\n",
       "    <tr>\n",
       "      <th>4</th>\n",
       "      <td>35</td>\n",
       "      <td>2</td>\n",
       "      <td>3</td>\n",
       "      <td>3</td>\n",
       "      <td>87000.0</td>\n",
       "      <td>9.0</td>\n",
       "      <td>1087.5</td>\n",
       "      <td>7909.090909</td>\n",
       "      <td>1</td>\n",
       "    </tr>\n",
       "  </tbody>\n",
       "</table>\n",
       "</div>"
      ],
      "text/plain": [
       "   AGE  GENDER  EDUCATION_LEVEL  MARITAL_STATUS  INCOME_MAIN_AMT  REG_CODE   \n",
       "0   35       2                3               3          87000.0       9.0  \\\n",
       "1   35       2                3               3          87000.0       9.0   \n",
       "2   35       2                3               3          87000.0       9.0   \n",
       "3   35       2                3               3          87000.0       9.0   \n",
       "4   35       2                3               3          87000.0       9.0   \n",
       "\n",
       "   INCOME_MAIN_AMT_EUR  INCOME_MAIN_AMT_CNY  GMCLUSTS  \n",
       "0               1087.5          7909.090909         1  \n",
       "1               1087.5          7909.090909         1  \n",
       "2               1087.5          7909.090909         1  \n",
       "3               1087.5          7909.090909         1  \n",
       "4               1087.5          7909.090909         1  "
      ]
     },
     "execution_count": 65,
     "metadata": {},
     "output_type": "execute_result"
    }
   ],
   "source": [
    "tk_merge.head()"
   ]
  },
  {
   "cell_type": "code",
   "execution_count": 66,
   "id": "53325836",
   "metadata": {
    "id": "53325836",
    "outputId": "6e070c76-d3b9-45ee-c375-f1783a904523"
   },
   "outputs": [
    {
     "data": {
      "image/png": "[encoded data removed]",
      "text/plain": [
       "<Figure size 500x500 with 1 Axes>"
      ]
     },
     "metadata": {},
     "output_type": "display_data"
    },
    {
     "data": {
      "image/png": "[encoded data removed]",
      "text/plain": [
       "<Figure size 500x500 with 1 Axes>"
      ]
     },
     "metadata": {},
     "output_type": "display_data"
    },
    {
     "data": {
      "image/png": "[encoded data removed]",
      "text/plain": [
       "<Figure size 500x500 with 1 Axes>"
      ]
     },
     "metadata": {},
     "output_type": "display_data"
    }
   ],
   "source": [
    "#Лист с признаками которые не будут учитываться при визуализации (Не категориальные)\n",
    "skip = ['AGE', 'INCOME_MAIN_AMT', 'INCOME_MAIN_AMT_EUR']\n",
    "#Не категориальные признаки\n",
    "for i in skip:\n",
    "    if type(tk_merge[i].iloc[2]) == np.int64 or type(tk_merge[i].iloc[2]) == np.float64:\n",
    "        sns.displot(tk_merge, x=i, kind=\"kde\", fill=True)"
   ]
  },
  {
   "cell_type": "code",
   "execution_count": 67,
   "id": "3eebf5f7",
   "metadata": {
    "id": "3eebf5f7",
    "outputId": "225983b3-0cd0-4b9e-bebb-b4c84807a234",
    "scrolled": false
   },
   "outputs": [
    {
     "data": {
      "image/png": "[encoded data removed]",
      "text/plain": [
       "<Figure size 1000x200 with 1 Axes>"
      ]
     },
     "metadata": {},
     "output_type": "display_data"
    },
    {
     "data": {
      "image/png": "[encoded data removed]",
      "text/plain": [
       "<Figure size 1000x200 with 1 Axes>"
      ]
     },
     "metadata": {},
     "output_type": "display_data"
    },
    {
     "data": {
      "image/png": "[encoded data removed]",
      "text/plain": [
       "<Figure size 1000x200 with 1 Axes>"
      ]
     },
     "metadata": {},
     "output_type": "display_data"
    },
    {
     "data": {
      "image/png": "[encoded data removed]",
      "text/plain": [
       "<Figure size 1000x200 with 1 Axes>"
      ]
     },
     "metadata": {},
     "output_type": "display_data"
    },
    {
     "data": {
      "image/png": "[encoded data removed]",
      "text/plain": [
       "<Figure size 1000x200 with 1 Axes>"
      ]
     },
     "metadata": {},
     "output_type": "display_data"
    }
   ],
   "source": [
    "#Категориальные признаки\n",
    "for i in tk_merge.columns:\n",
    "    if i not in skip and i != 'REG_CODE':\n",
    "        sns.catplot(x=i, kind='count', palette='ch:25', height=2, aspect=5, data=tk_merge)\n",
    "        plt.show()"
   ]
  },
  {
   "cell_type": "markdown",
   "id": "0861f971",
   "metadata": {
    "id": "0861f971"
   },
   "source": [
    "REG_CODE плохо визуализировался, так что его можно вывести отдельно"
   ]
  },
  {
   "cell_type": "code",
   "execution_count": 69,
   "id": "258c7fb7",
   "metadata": {
    "id": "258c7fb7",
    "outputId": "d128c2f1-f51f-4fca-cf3b-caeb36bc2199"
   },
   "outputs": [
    {
     "data": {
      "image/png": "[encoded data removed]",
      "text/plain": [
       "<Figure size 2000x400 with 1 Axes>"
      ]
     },
     "metadata": {},
     "output_type": "display_data"
    }
   ],
   "source": [
    "sns.catplot(x='REG_CODE', kind='count', palette='ch:25', height=4, aspect=5, data=df)\n",
    "plt.xticks(rotation=90)\n",
    "plt.show()"
   ]
  },
  {
   "cell_type": "markdown",
   "id": "7967d19e",
   "metadata": {
    "id": "7967d19e"
   },
   "source": [
    "### 2.2 Разбиение выборки"
   ]
  },
  {
   "cell_type": "code",
   "execution_count": 71,
   "id": "7a739e20",
   "metadata": {
    "id": "7a739e20",
    "outputId": "dfeb4c2e-b0dd-490e-8fbc-4ec76b7032de"
   },
   "outputs": [
    {
     "data": {
      "text/html": [
       "<div>\n",
       "<style scoped>\n",
       "    .dataframe tbody tr th:only-of-type {\n",
       "        vertical-align: middle;\n",
       "    }\n",
       "\n",
       "    .dataframe tbody tr th {\n",
       "        vertical-align: top;\n",
       "    }\n",
       "\n",
       "    .dataframe thead th {\n",
       "        text-align: right;\n",
       "    }\n",
       "</style>\n",
       "<table border=\"1\" class=\"dataframe\">\n",
       "  <thead>\n",
       "    <tr style=\"text-align: right;\">\n",
       "      <th></th>\n",
       "      <th>ID</th>\n",
       "      <th>MM_IN_BANK</th>\n",
       "      <th>MM_W_CARD</th>\n",
       "      <th>AGE</th>\n",
       "      <th>GENDER</th>\n",
       "      <th>EDUCATION_LEVEL</th>\n",
       "      <th>MARITAL_STATUS</th>\n",
       "      <th>DEPENDANT_CNT</th>\n",
       "      <th>INCOME_MAIN_AMT</th>\n",
       "      <th>REG_CODE</th>\n",
       "      <th>INCOME_MAIN_AMT_USD</th>\n",
       "      <th>INCOME_MAIN_AMT_CNY</th>\n",
       "    </tr>\n",
       "  </thead>\n",
       "  <tbody>\n",
       "    <tr>\n",
       "      <th>0</th>\n",
       "      <td>500000000000003702</td>\n",
       "      <td>5</td>\n",
       "      <td>5</td>\n",
       "      <td>35</td>\n",
       "      <td>2</td>\n",
       "      <td>3</td>\n",
       "      <td>3</td>\n",
       "      <td>0</td>\n",
       "      <td>87000.0</td>\n",
       "      <td>9.0</td>\n",
       "      <td>1087.5</td>\n",
       "      <td>7909.090909</td>\n",
       "    </tr>\n",
       "    <tr>\n",
       "      <th>1</th>\n",
       "      <td>500000000000004100</td>\n",
       "      <td>108</td>\n",
       "      <td>0</td>\n",
       "      <td>34</td>\n",
       "      <td>2</td>\n",
       "      <td>3</td>\n",
       "      <td>3</td>\n",
       "      <td>2</td>\n",
       "      <td>180000.0</td>\n",
       "      <td>31.0</td>\n",
       "      <td>2250.0</td>\n",
       "      <td>16363.636364</td>\n",
       "    </tr>\n",
       "    <tr>\n",
       "      <th>2</th>\n",
       "      <td>500000000000004523</td>\n",
       "      <td>0</td>\n",
       "      <td>0</td>\n",
       "      <td>35</td>\n",
       "      <td>1</td>\n",
       "      <td>1</td>\n",
       "      <td>3</td>\n",
       "      <td>0</td>\n",
       "      <td>61000.0</td>\n",
       "      <td>38.0</td>\n",
       "      <td>762.5</td>\n",
       "      <td>5545.454545</td>\n",
       "    </tr>\n",
       "    <tr>\n",
       "      <th>3</th>\n",
       "      <td>500000000000004529</td>\n",
       "      <td>6</td>\n",
       "      <td>6</td>\n",
       "      <td>38</td>\n",
       "      <td>1</td>\n",
       "      <td>5</td>\n",
       "      <td>3</td>\n",
       "      <td>0</td>\n",
       "      <td>318000.0</td>\n",
       "      <td>42.0</td>\n",
       "      <td>3975.0</td>\n",
       "      <td>28909.090909</td>\n",
       "    </tr>\n",
       "    <tr>\n",
       "      <th>4</th>\n",
       "      <td>500000000000004718</td>\n",
       "      <td>18</td>\n",
       "      <td>5</td>\n",
       "      <td>39</td>\n",
       "      <td>1</td>\n",
       "      <td>-1</td>\n",
       "      <td>3</td>\n",
       "      <td>0</td>\n",
       "      <td>34000.0</td>\n",
       "      <td>81.0</td>\n",
       "      <td>425.0</td>\n",
       "      <td>3090.909091</td>\n",
       "    </tr>\n",
       "  </tbody>\n",
       "</table>\n",
       "</div>"
      ],
      "text/plain": [
       "                   ID  MM_IN_BANK  MM_W_CARD  AGE  GENDER  EDUCATION_LEVEL   \n",
       "0  500000000000003702           5          5   35       2                3  \\\n",
       "1  500000000000004100         108          0   34       2                3   \n",
       "2  500000000000004523           0          0   35       1                1   \n",
       "3  500000000000004529           6          6   38       1                5   \n",
       "4  500000000000004718          18          5   39       1               -1   \n",
       "\n",
       "   MARITAL_STATUS  DEPENDANT_CNT  INCOME_MAIN_AMT  REG_CODE   \n",
       "0               3              0          87000.0       9.0  \\\n",
       "1               3              2         180000.0      31.0   \n",
       "2               3              0          61000.0      38.0   \n",
       "3               3              0         318000.0      42.0   \n",
       "4               3              0          34000.0      81.0   \n",
       "\n",
       "   INCOME_MAIN_AMT_USD  INCOME_MAIN_AMT_CNY  \n",
       "0               1087.5          7909.090909  \n",
       "1               2250.0         16363.636364  \n",
       "2                762.5          5545.454545  \n",
       "3               3975.0         28909.090909  \n",
       "4                425.0          3090.909091  "
      ]
     },
     "execution_count": 71,
     "metadata": {},
     "output_type": "execute_result"
    }
   ],
   "source": [
    "df.head()"
   ]
  },
  {
   "cell_type": "markdown",
   "id": "67b6d6d5",
   "metadata": {
    "id": "67b6d6d5"
   },
   "source": [
    "Система рекомендаций будет определять категорию принадлежности, то есть порекомендовать пользователю товар для мужчин или для женщин"
   ]
  },
  {
   "cell_type": "markdown",
   "id": "e65a30b9",
   "metadata": {
    "id": "e65a30b9"
   },
   "source": [
    "#### MinMaxScaler\n",
    "Преобразование характеристик путем масштабирования каждой характеристики в заданном диапазоне. Этот оценщик масштабирует и переводит каждый признак в отдельности таким образом,чтобы он находился в заданном диапазоне на обучающем множестве,например,между нулем и единицей."
   ]
  },
  {
   "cell_type": "code",
   "execution_count": 72,
   "id": "0d9d8d6b",
   "metadata": {
    "id": "0d9d8d6b"
   },
   "outputs": [],
   "source": [
    "#обьявляю MinMaxScaler\n",
    "scaler = MinMaxScaler()\n",
    "#преобразую данные\n",
    "X = scaler.fit_transform(X)"
   ]
  },
  {
   "cell_type": "code",
   "execution_count": 73,
   "id": "476917b3",
   "metadata": {
    "id": "476917b3"
   },
   "outputs": [],
   "source": [
    "#Помещу их в переменную X\n",
    "X = tk_merge[[\"AGE\", \"EDUCATION_LEVEL\", \"REG_CODE\", \"GMCLUSTS\"]]\n",
    "y = tk_merge[\"GENDER\"]"
   ]
  },
  {
   "cell_type": "code",
   "execution_count": 84,
   "id": "146ef286",
   "metadata": {
    "id": "146ef286"
   },
   "outputs": [],
   "source": [
    "#Разделение данных на обучающий и тестовый набор\n",
    "X_train, X_test, y_train, y_test = train_test_split(X, y, test_size=0.6, random_state=84, stratify=y)"
   ]
  },
  {
   "cell_type": "markdown",
   "id": "08805483",
   "metadata": {
    "id": "08805483"
   },
   "source": [
    "#### Реализация моделей"
   ]
  },
  {
   "cell_type": "markdown",
   "id": "1aaf866d",
   "metadata": {
    "id": "1aaf866d"
   },
   "source": [
    "#### KNN"
   ]
  },
  {
   "cell_type": "code",
   "execution_count": 85,
   "id": "cbfc98e0",
   "metadata": {
    "id": "cbfc98e0",
    "outputId": "7569ab84-af24-4761-8ecd-531e0bc2e6fe"
   },
   "outputs": [
    {
     "data": {
      "text/html": [
       "<style>#sk-container-id-4 {color: black;background-color: white;}#sk-container-id-4 pre{padding: 0;}#sk-container-id-4 div.sk-toggleable {background-color: white;}#sk-container-id-4 label.sk-toggleable__label {cursor: pointer;display: block;width: 100%;margin-bottom: 0;padding: 0.3em;box-sizing: border-box;text-align: center;}#sk-container-id-4 label.sk-toggleable__label-arrow:before {content: \"▸\";float: left;margin-right: 0.25em;color: #696969;}#sk-container-id-4 label.sk-toggleable__label-arrow:hover:before {color: black;}#sk-container-id-4 div.sk-estimator:hover label.sk-toggleable__label-arrow:before {color: black;}#sk-container-id-4 div.sk-toggleable__content {max-height: 0;max-width: 0;overflow: hidden;text-align: left;background-color: #f0f8ff;}#sk-container-id-4 div.sk-toggleable__content pre {margin: 0.2em;color: black;border-radius: 0.25em;background-color: #f0f8ff;}#sk-container-id-4 input.sk-toggleable__control:checked~div.sk-toggleable__content {max-height: 200px;max-width: 100%;overflow: auto;}#sk-container-id-4 input.sk-toggleable__control:checked~label.sk-toggleable__label-arrow:before {content: \"▾\";}#sk-container-id-4 div.sk-estimator input.sk-toggleable__control:checked~label.sk-toggleable__label {background-color: #d4ebff;}#sk-container-id-4 div.sk-label input.sk-toggleable__control:checked~label.sk-toggleable__label {background-color: #d4ebff;}#sk-container-id-4 input.sk-hidden--visually {border: 0;clip: rect(1px 1px 1px 1px);clip: rect(1px, 1px, 1px, 1px);height: 1px;margin: -1px;overflow: hidden;padding: 0;position: absolute;width: 1px;}#sk-container-id-4 div.sk-estimator {font-family: monospace;background-color: #f0f8ff;border: 1px dotted black;border-radius: 0.25em;box-sizing: border-box;margin-bottom: 0.5em;}#sk-container-id-4 div.sk-estimator:hover {background-color: #d4ebff;}#sk-container-id-4 div.sk-parallel-item::after {content: \"\";width: 100%;border-bottom: 1px solid gray;flex-grow: 1;}#sk-container-id-4 div.sk-label:hover label.sk-toggleable__label {background-color: #d4ebff;}#sk-container-id-4 div.sk-serial::before {content: \"\";position: absolute;border-left: 1px solid gray;box-sizing: border-box;top: 0;bottom: 0;left: 50%;z-index: 0;}#sk-container-id-4 div.sk-serial {display: flex;flex-direction: column;align-items: center;background-color: white;padding-right: 0.2em;padding-left: 0.2em;position: relative;}#sk-container-id-4 div.sk-item {position: relative;z-index: 1;}#sk-container-id-4 div.sk-parallel {display: flex;align-items: stretch;justify-content: center;background-color: white;position: relative;}#sk-container-id-4 div.sk-item::before, #sk-container-id-4 div.sk-parallel-item::before {content: \"\";position: absolute;border-left: 1px solid gray;box-sizing: border-box;top: 0;bottom: 0;left: 50%;z-index: -1;}#sk-container-id-4 div.sk-parallel-item {display: flex;flex-direction: column;z-index: 1;position: relative;background-color: white;}#sk-container-id-4 div.sk-parallel-item:first-child::after {align-self: flex-end;width: 50%;}#sk-container-id-4 div.sk-parallel-item:last-child::after {align-self: flex-start;width: 50%;}#sk-container-id-4 div.sk-parallel-item:only-child::after {width: 0;}#sk-container-id-4 div.sk-dashed-wrapped {border: 1px dashed gray;margin: 0 0.4em 0.5em 0.4em;box-sizing: border-box;padding-bottom: 0.4em;background-color: white;}#sk-container-id-4 div.sk-label label {font-family: monospace;font-weight: bold;display: inline-block;line-height: 1.2em;}#sk-container-id-4 div.sk-label-container {text-align: center;}#sk-container-id-4 div.sk-container {/* jupyter's `normalize.less` sets `[hidden] { display: none; }` but bootstrap.min.css set `[hidden] { display: none !important; }` so we also need the `!important` here to be able to override the default hidden behavior on the sphinx rendered scikit-learn.org. See: https://github.com/scikit-learn/scikit-learn/issues/21755 */display: inline-block !important;position: relative;}#sk-container-id-4 div.sk-text-repr-fallback {display: none;}</style><div id=\"sk-container-id-4\" class=\"sk-top-container\"><div class=\"sk-text-repr-fallback\"><pre>KNeighborsClassifier()</pre><b>In a Jupyter environment, please rerun this cell to show the HTML representation or trust the notebook. <br />On GitHub, the HTML representation is unable to render, please try loading this page with nbviewer.org.</b></div><div class=\"sk-container\" hidden><div class=\"sk-item\"><div class=\"sk-estimator sk-toggleable\"><input class=\"sk-toggleable__control sk-hidden--visually\" id=\"sk-estimator-id-4\" type=\"checkbox\" checked><label for=\"sk-estimator-id-4\" class=\"sk-toggleable__label sk-toggleable__label-arrow\">KNeighborsClassifier</label><div class=\"sk-toggleable__content\"><pre>KNeighborsClassifier()</pre></div></div></div></div></div>"
      ],
      "text/plain": [
       "KNeighborsClassifier()"
      ]
     },
     "execution_count": 85,
     "metadata": {},
     "output_type": "execute_result"
    }
   ],
   "source": [
    "#Объявление классификатор\n",
    "neigh = KNeighborsClassifier()\n",
    "#Обучение классификатора\n",
    "neigh.fit(X_train, y_train)"
   ]
  },
  {
   "cell_type": "markdown",
   "id": "05c7426b",
   "metadata": {
    "id": "05c7426b"
   },
   "source": [
    "#### GaussianNB"
   ]
  },
  {
   "cell_type": "code",
   "execution_count": 86,
   "id": "07a38b28",
   "metadata": {
    "id": "07a38b28",
    "outputId": "7972ae17-c5e2-4768-b1b9-bbe3c382d350"
   },
   "outputs": [
    {
     "data": {
      "text/html": [
       "<style>#sk-container-id-5 {color: black;background-color: white;}#sk-container-id-5 pre{padding: 0;}#sk-container-id-5 div.sk-toggleable {background-color: white;}#sk-container-id-5 label.sk-toggleable__label {cursor: pointer;display: block;width: 100%;margin-bottom: 0;padding: 0.3em;box-sizing: border-box;text-align: center;}#sk-container-id-5 label.sk-toggleable__label-arrow:before {content: \"▸\";float: left;margin-right: 0.25em;color: #696969;}#sk-container-id-5 label.sk-toggleable__label-arrow:hover:before {color: black;}#sk-container-id-5 div.sk-estimator:hover label.sk-toggleable__label-arrow:before {color: black;}#sk-container-id-5 div.sk-toggleable__content {max-height: 0;max-width: 0;overflow: hidden;text-align: left;background-color: #f0f8ff;}#sk-container-id-5 div.sk-toggleable__content pre {margin: 0.2em;color: black;border-radius: 0.25em;background-color: #f0f8ff;}#sk-container-id-5 input.sk-toggleable__control:checked~div.sk-toggleable__content {max-height: 200px;max-width: 100%;overflow: auto;}#sk-container-id-5 input.sk-toggleable__control:checked~label.sk-toggleable__label-arrow:before {content: \"▾\";}#sk-container-id-5 div.sk-estimator input.sk-toggleable__control:checked~label.sk-toggleable__label {background-color: #d4ebff;}#sk-container-id-5 div.sk-label input.sk-toggleable__control:checked~label.sk-toggleable__label {background-color: #d4ebff;}#sk-container-id-5 input.sk-hidden--visually {border: 0;clip: rect(1px 1px 1px 1px);clip: rect(1px, 1px, 1px, 1px);height: 1px;margin: -1px;overflow: hidden;padding: 0;position: absolute;width: 1px;}#sk-container-id-5 div.sk-estimator {font-family: monospace;background-color: #f0f8ff;border: 1px dotted black;border-radius: 0.25em;box-sizing: border-box;margin-bottom: 0.5em;}#sk-container-id-5 div.sk-estimator:hover {background-color: #d4ebff;}#sk-container-id-5 div.sk-parallel-item::after {content: \"\";width: 100%;border-bottom: 1px solid gray;flex-grow: 1;}#sk-container-id-5 div.sk-label:hover label.sk-toggleable__label {background-color: #d4ebff;}#sk-container-id-5 div.sk-serial::before {content: \"\";position: absolute;border-left: 1px solid gray;box-sizing: border-box;top: 0;bottom: 0;left: 50%;z-index: 0;}#sk-container-id-5 div.sk-serial {display: flex;flex-direction: column;align-items: center;background-color: white;padding-right: 0.2em;padding-left: 0.2em;position: relative;}#sk-container-id-5 div.sk-item {position: relative;z-index: 1;}#sk-container-id-5 div.sk-parallel {display: flex;align-items: stretch;justify-content: center;background-color: white;position: relative;}#sk-container-id-5 div.sk-item::before, #sk-container-id-5 div.sk-parallel-item::before {content: \"\";position: absolute;border-left: 1px solid gray;box-sizing: border-box;top: 0;bottom: 0;left: 50%;z-index: -1;}#sk-container-id-5 div.sk-parallel-item {display: flex;flex-direction: column;z-index: 1;position: relative;background-color: white;}#sk-container-id-5 div.sk-parallel-item:first-child::after {align-self: flex-end;width: 50%;}#sk-container-id-5 div.sk-parallel-item:last-child::after {align-self: flex-start;width: 50%;}#sk-container-id-5 div.sk-parallel-item:only-child::after {width: 0;}#sk-container-id-5 div.sk-dashed-wrapped {border: 1px dashed gray;margin: 0 0.4em 0.5em 0.4em;box-sizing: border-box;padding-bottom: 0.4em;background-color: white;}#sk-container-id-5 div.sk-label label {font-family: monospace;font-weight: bold;display: inline-block;line-height: 1.2em;}#sk-container-id-5 div.sk-label-container {text-align: center;}#sk-container-id-5 div.sk-container {/* jupyter's `normalize.less` sets `[hidden] { display: none; }` but bootstrap.min.css set `[hidden] { display: none !important; }` so we also need the `!important` here to be able to override the default hidden behavior on the sphinx rendered scikit-learn.org. See: https://github.com/scikit-learn/scikit-learn/issues/21755 */display: inline-block !important;position: relative;}#sk-container-id-5 div.sk-text-repr-fallback {display: none;}</style><div id=\"sk-container-id-5\" class=\"sk-top-container\"><div class=\"sk-text-repr-fallback\"><pre>GaussianNB()</pre><b>In a Jupyter environment, please rerun this cell to show the HTML representation or trust the notebook. <br />On GitHub, the HTML representation is unable to render, please try loading this page with nbviewer.org.</b></div><div class=\"sk-container\" hidden><div class=\"sk-item\"><div class=\"sk-estimator sk-toggleable\"><input class=\"sk-toggleable__control sk-hidden--visually\" id=\"sk-estimator-id-5\" type=\"checkbox\" checked><label for=\"sk-estimator-id-5\" class=\"sk-toggleable__label sk-toggleable__label-arrow\">GaussianNB</label><div class=\"sk-toggleable__content\"><pre>GaussianNB()</pre></div></div></div></div></div>"
      ],
      "text/plain": [
       "GaussianNB()"
      ]
     },
     "execution_count": 86,
     "metadata": {},
     "output_type": "execute_result"
    }
   ],
   "source": [
    "#Объявление классификатор\n",
    "gnb = GaussianNB()\n",
    "#Обучение классификатора\n",
    "gnb.fit(X_train, y_train)\n",
    "GaussianNB()"
   ]
  },
  {
   "cell_type": "markdown",
   "id": "94410e54",
   "metadata": {
    "id": "94410e54"
   },
   "source": [
    "#### LogisticRegression"
   ]
  },
  {
   "cell_type": "code",
   "execution_count": 87,
   "id": "8be4d6c9",
   "metadata": {
    "id": "8be4d6c9",
    "outputId": "762f71fd-8dde-46f5-88ef-4c0cfdc313a9"
   },
   "outputs": [
    {
     "data": {
      "text/html": [
       "<style>#sk-container-id-6 {color: black;background-color: white;}#sk-container-id-6 pre{padding: 0;}#sk-container-id-6 div.sk-toggleable {background-color: white;}#sk-container-id-6 label.sk-toggleable__label {cursor: pointer;display: block;width: 100%;margin-bottom: 0;padding: 0.3em;box-sizing: border-box;text-align: center;}#sk-container-id-6 label.sk-toggleable__label-arrow:before {content: \"▸\";float: left;margin-right: 0.25em;color: #696969;}#sk-container-id-6 label.sk-toggleable__label-arrow:hover:before {color: black;}#sk-container-id-6 div.sk-estimator:hover label.sk-toggleable__label-arrow:before {color: black;}#sk-container-id-6 div.sk-toggleable__content {max-height: 0;max-width: 0;overflow: hidden;text-align: left;background-color: #f0f8ff;}#sk-container-id-6 div.sk-toggleable__content pre {margin: 0.2em;color: black;border-radius: 0.25em;background-color: #f0f8ff;}#sk-container-id-6 input.sk-toggleable__control:checked~div.sk-toggleable__content {max-height: 200px;max-width: 100%;overflow: auto;}#sk-container-id-6 input.sk-toggleable__control:checked~label.sk-toggleable__label-arrow:before {content: \"▾\";}#sk-container-id-6 div.sk-estimator input.sk-toggleable__control:checked~label.sk-toggleable__label {background-color: #d4ebff;}#sk-container-id-6 div.sk-label input.sk-toggleable__control:checked~label.sk-toggleable__label {background-color: #d4ebff;}#sk-container-id-6 input.sk-hidden--visually {border: 0;clip: rect(1px 1px 1px 1px);clip: rect(1px, 1px, 1px, 1px);height: 1px;margin: -1px;overflow: hidden;padding: 0;position: absolute;width: 1px;}#sk-container-id-6 div.sk-estimator {font-family: monospace;background-color: #f0f8ff;border: 1px dotted black;border-radius: 0.25em;box-sizing: border-box;margin-bottom: 0.5em;}#sk-container-id-6 div.sk-estimator:hover {background-color: #d4ebff;}#sk-container-id-6 div.sk-parallel-item::after {content: \"\";width: 100%;border-bottom: 1px solid gray;flex-grow: 1;}#sk-container-id-6 div.sk-label:hover label.sk-toggleable__label {background-color: #d4ebff;}#sk-container-id-6 div.sk-serial::before {content: \"\";position: absolute;border-left: 1px solid gray;box-sizing: border-box;top: 0;bottom: 0;left: 50%;z-index: 0;}#sk-container-id-6 div.sk-serial {display: flex;flex-direction: column;align-items: center;background-color: white;padding-right: 0.2em;padding-left: 0.2em;position: relative;}#sk-container-id-6 div.sk-item {position: relative;z-index: 1;}#sk-container-id-6 div.sk-parallel {display: flex;align-items: stretch;justify-content: center;background-color: white;position: relative;}#sk-container-id-6 div.sk-item::before, #sk-container-id-6 div.sk-parallel-item::before {content: \"\";position: absolute;border-left: 1px solid gray;box-sizing: border-box;top: 0;bottom: 0;left: 50%;z-index: -1;}#sk-container-id-6 div.sk-parallel-item {display: flex;flex-direction: column;z-index: 1;position: relative;background-color: white;}#sk-container-id-6 div.sk-parallel-item:first-child::after {align-self: flex-end;width: 50%;}#sk-container-id-6 div.sk-parallel-item:last-child::after {align-self: flex-start;width: 50%;}#sk-container-id-6 div.sk-parallel-item:only-child::after {width: 0;}#sk-container-id-6 div.sk-dashed-wrapped {border: 1px dashed gray;margin: 0 0.4em 0.5em 0.4em;box-sizing: border-box;padding-bottom: 0.4em;background-color: white;}#sk-container-id-6 div.sk-label label {font-family: monospace;font-weight: bold;display: inline-block;line-height: 1.2em;}#sk-container-id-6 div.sk-label-container {text-align: center;}#sk-container-id-6 div.sk-container {/* jupyter's `normalize.less` sets `[hidden] { display: none; }` but bootstrap.min.css set `[hidden] { display: none !important; }` so we also need the `!important` here to be able to override the default hidden behavior on the sphinx rendered scikit-learn.org. See: https://github.com/scikit-learn/scikit-learn/issues/21755 */display: inline-block !important;position: relative;}#sk-container-id-6 div.sk-text-repr-fallback {display: none;}</style><div id=\"sk-container-id-6\" class=\"sk-top-container\"><div class=\"sk-text-repr-fallback\"><pre>LogisticRegression()</pre><b>In a Jupyter environment, please rerun this cell to show the HTML representation or trust the notebook. <br />On GitHub, the HTML representation is unable to render, please try loading this page with nbviewer.org.</b></div><div class=\"sk-container\" hidden><div class=\"sk-item\"><div class=\"sk-estimator sk-toggleable\"><input class=\"sk-toggleable__control sk-hidden--visually\" id=\"sk-estimator-id-6\" type=\"checkbox\" checked><label for=\"sk-estimator-id-6\" class=\"sk-toggleable__label sk-toggleable__label-arrow\">LogisticRegression</label><div class=\"sk-toggleable__content\"><pre>LogisticRegression()</pre></div></div></div></div></div>"
      ],
      "text/plain": [
       "LogisticRegression()"
      ]
     },
     "execution_count": 87,
     "metadata": {},
     "output_type": "execute_result"
    }
   ],
   "source": [
    "#Объявление классификатор\n",
    "clf = LogisticRegression()\n",
    "#Обучение классификатора\n",
    "clf.fit(X_train, y_train)"
   ]
  },
  {
   "cell_type": "markdown",
   "id": "b755b9d9",
   "metadata": {
    "id": "b755b9d9"
   },
   "source": [
    "#### Метрики\n",
    "Теперь посмотрю на результаты метрик, я буду рассматривать метрики - f1 и accuracy sore, f так же f1 по macro avg"
   ]
  },
  {
   "cell_type": "markdown",
   "id": "da8e70fa",
   "metadata": {
    "id": "da8e70fa"
   },
   "source": [
    "#### KNN"
   ]
  },
  {
   "cell_type": "code",
   "execution_count": 88,
   "id": "964b2ba9",
   "metadata": {
    "id": "964b2ba9",
    "outputId": "062141ed-215b-40af-c584-b466b3a23034"
   },
   "outputs": [
    {
     "name": "stdout",
     "output_type": "stream",
     "text": [
      "              precision    recall  f1-score   support\n",
      "\n",
      "           1       1.00      1.00      1.00   1384045\n",
      "           2       1.00      1.00      1.00   1203233\n",
      "\n",
      "    accuracy                           1.00   2587278\n",
      "   macro avg       1.00      1.00      1.00   2587278\n",
      "weighted avg       1.00      1.00      1.00   2587278\n",
      "\n"
     ]
    }
   ],
   "source": [
    "#Вывожу результаты метрик при помощи classification_report\n",
    "print(classification_report(y_test, neigh.predict(X_test)))"
   ]
  },
  {
   "cell_type": "markdown",
   "id": "0460c048",
   "metadata": {
    "id": "0460c048"
   },
   "source": [
    "#### GaussianNB"
   ]
  },
  {
   "cell_type": "code",
   "execution_count": 89,
   "id": "4734cd76",
   "metadata": {
    "id": "4734cd76",
    "outputId": "8b0341b6-dc0d-4ac1-a3fd-034cccb26916"
   },
   "outputs": [
    {
     "name": "stdout",
     "output_type": "stream",
     "text": [
      "              precision    recall  f1-score   support\n",
      "\n",
      "           1       1.00      1.00      1.00   1384045\n",
      "           2       1.00      1.00      1.00   1203233\n",
      "\n",
      "    accuracy                           1.00   2587278\n",
      "   macro avg       1.00      1.00      1.00   2587278\n",
      "weighted avg       1.00      1.00      1.00   2587278\n",
      "\n"
     ]
    }
   ],
   "source": [
    "#Вывожу результаты метрик при помощи classification_report\n",
    "print(classification_report(y_test, gnb.predict(X_test)))"
   ]
  },
  {
   "cell_type": "markdown",
   "id": "4062da66",
   "metadata": {
    "id": "4062da66"
   },
   "source": [
    "#### LogisticRegression"
   ]
  },
  {
   "cell_type": "code",
   "execution_count": 90,
   "id": "f108a901",
   "metadata": {
    "id": "f108a901",
    "outputId": "84da34f5-3b45-41c3-8a0b-35f688924fe7"
   },
   "outputs": [
    {
     "name": "stdout",
     "output_type": "stream",
     "text": [
      "              precision    recall  f1-score   support\n",
      "\n",
      "           1       1.00      1.00      1.00   1384045\n",
      "           2       1.00      1.00      1.00   1203233\n",
      "\n",
      "    accuracy                           1.00   2587278\n",
      "   macro avg       1.00      1.00      1.00   2587278\n",
      "weighted avg       1.00      1.00      1.00   2587278\n",
      "\n"
     ]
    }
   ],
   "source": [
    "#Вывожу результаты метрик при помощи classification_report\n",
    "print(classification_report(y_test, clf.predict(X_test)))"
   ]
  },
  {
   "cell_type": "markdown",
   "id": "689a5f5e",
   "metadata": {
    "id": "689a5f5e"
   },
   "source": [
    "#### Решение\n",
    "По итогам метрик, остановлюсь на алгоритме KNN, так как он имеет самые высокие показатели, по f1 accuracy показал 0.99, и f1 macro avg 0.99. В то время как остальные алгоритмы показали 1, что может оказаться переобучением."
   ]
  },
  {
   "cell_type": "markdown",
   "id": "63867062",
   "metadata": {
    "id": "63867062"
   },
   "source": [
    "### 2.3 Оптимизация модели"
   ]
  },
  {
   "cell_type": "markdown",
   "id": "9cd27a45",
   "metadata": {
    "id": "9cd27a45"
   },
   "source": [
    "#### Генерация новых данных"
   ]
  },
  {
   "cell_type": "code",
   "execution_count": 92,
   "id": "f1780c3a",
   "metadata": {
    "id": "f1780c3a",
    "outputId": "bbaa41af-8b9b-4981-ae2d-d69ba1783a16"
   },
   "outputs": [
    {
     "data": {
      "text/html": [
       "<div>\n",
       "<style scoped>\n",
       "    .dataframe tbody tr th:only-of-type {\n",
       "        vertical-align: middle;\n",
       "    }\n",
       "\n",
       "    .dataframe tbody tr th {\n",
       "        vertical-align: top;\n",
       "    }\n",
       "\n",
       "    .dataframe thead th {\n",
       "        text-align: right;\n",
       "    }\n",
       "</style>\n",
       "<table border=\"1\" class=\"dataframe\">\n",
       "  <thead>\n",
       "    <tr style=\"text-align: right;\">\n",
       "      <th></th>\n",
       "      <th>AGE</th>\n",
       "      <th>GENDER</th>\n",
       "      <th>EDUCATION_LEVEL</th>\n",
       "      <th>MARITAL_STATUS</th>\n",
       "      <th>INCOME_MAIN_AMT</th>\n",
       "      <th>REG_CODE</th>\n",
       "      <th>INCOME_MAIN_AMT_EUR</th>\n",
       "      <th>INCOME_MAIN_AMT_CNY</th>\n",
       "      <th>GMCLUSTS</th>\n",
       "    </tr>\n",
       "  </thead>\n",
       "  <tbody>\n",
       "    <tr>\n",
       "      <th>0</th>\n",
       "      <td>35</td>\n",
       "      <td>2</td>\n",
       "      <td>3</td>\n",
       "      <td>3</td>\n",
       "      <td>87000.0</td>\n",
       "      <td>9.0</td>\n",
       "      <td>1087.5</td>\n",
       "      <td>7909.090909</td>\n",
       "      <td>1</td>\n",
       "    </tr>\n",
       "    <tr>\n",
       "      <th>1</th>\n",
       "      <td>35</td>\n",
       "      <td>2</td>\n",
       "      <td>3</td>\n",
       "      <td>3</td>\n",
       "      <td>87000.0</td>\n",
       "      <td>9.0</td>\n",
       "      <td>1087.5</td>\n",
       "      <td>7909.090909</td>\n",
       "      <td>1</td>\n",
       "    </tr>\n",
       "    <tr>\n",
       "      <th>2</th>\n",
       "      <td>35</td>\n",
       "      <td>2</td>\n",
       "      <td>3</td>\n",
       "      <td>3</td>\n",
       "      <td>87000.0</td>\n",
       "      <td>9.0</td>\n",
       "      <td>1087.5</td>\n",
       "      <td>7909.090909</td>\n",
       "      <td>1</td>\n",
       "    </tr>\n",
       "    <tr>\n",
       "      <th>3</th>\n",
       "      <td>35</td>\n",
       "      <td>2</td>\n",
       "      <td>3</td>\n",
       "      <td>3</td>\n",
       "      <td>87000.0</td>\n",
       "      <td>9.0</td>\n",
       "      <td>1087.5</td>\n",
       "      <td>7909.090909</td>\n",
       "      <td>1</td>\n",
       "    </tr>\n",
       "    <tr>\n",
       "      <th>4</th>\n",
       "      <td>35</td>\n",
       "      <td>2</td>\n",
       "      <td>3</td>\n",
       "      <td>3</td>\n",
       "      <td>87000.0</td>\n",
       "      <td>9.0</td>\n",
       "      <td>1087.5</td>\n",
       "      <td>7909.090909</td>\n",
       "      <td>1</td>\n",
       "    </tr>\n",
       "  </tbody>\n",
       "</table>\n",
       "</div>"
      ],
      "text/plain": [
       "   AGE  GENDER  EDUCATION_LEVEL  MARITAL_STATUS  INCOME_MAIN_AMT  REG_CODE   \n",
       "0   35       2                3               3          87000.0       9.0  \\\n",
       "1   35       2                3               3          87000.0       9.0   \n",
       "2   35       2                3               3          87000.0       9.0   \n",
       "3   35       2                3               3          87000.0       9.0   \n",
       "4   35       2                3               3          87000.0       9.0   \n",
       "\n",
       "   INCOME_MAIN_AMT_EUR  INCOME_MAIN_AMT_CNY  GMCLUSTS  \n",
       "0               1087.5          7909.090909         1  \n",
       "1               1087.5          7909.090909         1  \n",
       "2               1087.5          7909.090909         1  \n",
       "3               1087.5          7909.090909         1  \n",
       "4               1087.5          7909.090909         1  "
      ]
     },
     "execution_count": 92,
     "metadata": {},
     "output_type": "execute_result"
    }
   ],
   "source": [
    "tk_merge.head()"
   ]
  },
  {
   "cell_type": "markdown",
   "id": "634bc6b7",
   "metadata": {
    "id": "634bc6b7"
   },
   "source": [
    "В данном случае можно воспользоваться уже созданным нами атрибутом INCOME_MAIN_AMT_USD"
   ]
  },
  {
   "cell_type": "code",
   "execution_count": 53,
   "id": "440b2cf8",
   "metadata": {
    "id": "440b2cf8"
   },
   "outputs": [],
   "source": [
    "#обьявляю MinMaxScaler\n",
    "scaler = MinMaxScaler()\n",
    "#преобразую данные\n",
    "X = scaler.fit_transform(X)"
   ]
  },
  {
   "cell_type": "code",
   "execution_count": 54,
   "id": "79e04109",
   "metadata": {
    "id": "79e04109"
   },
   "outputs": [],
   "source": [
    "#Помещу их в переменную X\n",
    "X = df[[\"AGE\", \"EDUCATION_LEVEL\", \"REG_CODE\", \"GMCLUSTS\", 'INCOME_MAIN_AMT_USD']]\n",
    "y = df[\"GENDER\"]"
   ]
  },
  {
   "cell_type": "code",
   "execution_count": 55,
   "id": "a27e2442",
   "metadata": {
    "id": "a27e2442"
   },
   "outputs": [],
   "source": [
    "#Разделение данных на обучающий и тестовый набор\n",
    "X_train, X_test, y_train, y_test = train_test_split(X, y, test_size=0.3, random_state=42, stratify=y)"
   ]
  },
  {
   "cell_type": "markdown",
   "id": "fa7e5eed",
   "metadata": {
    "id": "fa7e5eed"
   },
   "source": [
    "#### Реализация моделей"
   ]
  },
  {
   "cell_type": "code",
   "execution_count": 56,
   "id": "2dee2aa8",
   "metadata": {
    "id": "2dee2aa8",
    "outputId": "ee099aaa-994a-49dc-e892-d03d50e00947"
   },
   "outputs": [
    {
     "data": {
      "text/html": [
       "<style>#sk-container-id-4 {color: black;background-color: white;}#sk-container-id-4 pre{padding: 0;}#sk-container-id-4 div.sk-toggleable {background-color: white;}#sk-container-id-4 label.sk-toggleable__label {cursor: pointer;display: block;width: 100%;margin-bottom: 0;padding: 0.3em;box-sizing: border-box;text-align: center;}#sk-container-id-4 label.sk-toggleable__label-arrow:before {content: \"▸\";float: left;margin-right: 0.25em;color: #696969;}#sk-container-id-4 label.sk-toggleable__label-arrow:hover:before {color: black;}#sk-container-id-4 div.sk-estimator:hover label.sk-toggleable__label-arrow:before {color: black;}#sk-container-id-4 div.sk-toggleable__content {max-height: 0;max-width: 0;overflow: hidden;text-align: left;background-color: #f0f8ff;}#sk-container-id-4 div.sk-toggleable__content pre {margin: 0.2em;color: black;border-radius: 0.25em;background-color: #f0f8ff;}#sk-container-id-4 input.sk-toggleable__control:checked~div.sk-toggleable__content {max-height: 200px;max-width: 100%;overflow: auto;}#sk-container-id-4 input.sk-toggleable__control:checked~label.sk-toggleable__label-arrow:before {content: \"▾\";}#sk-container-id-4 div.sk-estimator input.sk-toggleable__control:checked~label.sk-toggleable__label {background-color: #d4ebff;}#sk-container-id-4 div.sk-label input.sk-toggleable__control:checked~label.sk-toggleable__label {background-color: #d4ebff;}#sk-container-id-4 input.sk-hidden--visually {border: 0;clip: rect(1px 1px 1px 1px);clip: rect(1px, 1px, 1px, 1px);height: 1px;margin: -1px;overflow: hidden;padding: 0;position: absolute;width: 1px;}#sk-container-id-4 div.sk-estimator {font-family: monospace;background-color: #f0f8ff;border: 1px dotted black;border-radius: 0.25em;box-sizing: border-box;margin-bottom: 0.5em;}#sk-container-id-4 div.sk-estimator:hover {background-color: #d4ebff;}#sk-container-id-4 div.sk-parallel-item::after {content: \"\";width: 100%;border-bottom: 1px solid gray;flex-grow: 1;}#sk-container-id-4 div.sk-label:hover label.sk-toggleable__label {background-color: #d4ebff;}#sk-container-id-4 div.sk-serial::before {content: \"\";position: absolute;border-left: 1px solid gray;box-sizing: border-box;top: 0;bottom: 0;left: 50%;z-index: 0;}#sk-container-id-4 div.sk-serial {display: flex;flex-direction: column;align-items: center;background-color: white;padding-right: 0.2em;padding-left: 0.2em;position: relative;}#sk-container-id-4 div.sk-item {position: relative;z-index: 1;}#sk-container-id-4 div.sk-parallel {display: flex;align-items: stretch;justify-content: center;background-color: white;position: relative;}#sk-container-id-4 div.sk-item::before, #sk-container-id-4 div.sk-parallel-item::before {content: \"\";position: absolute;border-left: 1px solid gray;box-sizing: border-box;top: 0;bottom: 0;left: 50%;z-index: -1;}#sk-container-id-4 div.sk-parallel-item {display: flex;flex-direction: column;z-index: 1;position: relative;background-color: white;}#sk-container-id-4 div.sk-parallel-item:first-child::after {align-self: flex-end;width: 50%;}#sk-container-id-4 div.sk-parallel-item:last-child::after {align-self: flex-start;width: 50%;}#sk-container-id-4 div.sk-parallel-item:only-child::after {width: 0;}#sk-container-id-4 div.sk-dashed-wrapped {border: 1px dashed gray;margin: 0 0.4em 0.5em 0.4em;box-sizing: border-box;padding-bottom: 0.4em;background-color: white;}#sk-container-id-4 div.sk-label label {font-family: monospace;font-weight: bold;display: inline-block;line-height: 1.2em;}#sk-container-id-4 div.sk-label-container {text-align: center;}#sk-container-id-4 div.sk-container {/* jupyter's `normalize.less` sets `[hidden] { display: none; }` but bootstrap.min.css set `[hidden] { display: none !important; }` so we also need the `!important` here to be able to override the default hidden behavior on the sphinx rendered scikit-learn.org. See: https://github.com/scikit-learn/scikit-learn/issues/21755 */display: inline-block !important;position: relative;}#sk-container-id-4 div.sk-text-repr-fallback {display: none;}</style><div id=\"sk-container-id-4\" class=\"sk-top-container\"><div class=\"sk-text-repr-fallback\"><pre>KNeighborsClassifier(leaf_size=10, n_jobs=-1, n_neighbors=2, p=3)</pre><b>In a Jupyter environment, please rerun this cell to show the HTML representation or trust the notebook. <br />On GitHub, the HTML representation is unable to render, please try loading this page with nbviewer.org.</b></div><div class=\"sk-container\" hidden><div class=\"sk-item\"><div class=\"sk-estimator sk-toggleable\"><input class=\"sk-toggleable__control sk-hidden--visually\" id=\"sk-estimator-id-4\" type=\"checkbox\" checked><label for=\"sk-estimator-id-4\" class=\"sk-toggleable__label sk-toggleable__label-arrow\">KNeighborsClassifier</label><div class=\"sk-toggleable__content\"><pre>KNeighborsClassifier(leaf_size=10, n_jobs=-1, n_neighbors=2, p=3)</pre></div></div></div></div></div>"
      ],
      "text/plain": [
       "KNeighborsClassifier(leaf_size=10, n_jobs=-1, n_neighbors=2, p=3)"
      ]
     },
     "execution_count": 56,
     "metadata": {},
     "output_type": "execute_result"
    }
   ],
   "source": [
    "#Объявление классификатор\n",
    "neigh2 = KNeighborsClassifier(n_neighbors=2, leaf_size=10, p=3, n_jobs=-1)\n",
    "#Обучение классификатора\n",
    "neigh2.fit(X_train, y_train)"
   ]
  },
  {
   "cell_type": "markdown",
   "id": "5c2b90b8",
   "metadata": {
    "id": "5c2b90b8"
   },
   "source": [
    "#### Метрика"
   ]
  },
  {
   "cell_type": "code",
   "execution_count": 57,
   "id": "552f3a5b",
   "metadata": {
    "id": "552f3a5b",
    "outputId": "fe02bad8-8081-4abc-bef8-d4a1516e49b8"
   },
   "outputs": [
    {
     "name": "stdout",
     "output_type": "stream",
     "text": [
      "              precision    recall  f1-score   support\n",
      "\n",
      "           1       0.59      0.84      0.69     13677\n",
      "           2       0.76      0.47      0.58     15180\n",
      "\n",
      "    accuracy                           0.64     28857\n",
      "   macro avg       0.68      0.65      0.64     28857\n",
      "weighted avg       0.68      0.64      0.63     28857\n",
      "\n"
     ]
    }
   ],
   "source": [
    "#Вывожу результаты метрик при помощи classification_report\n",
    "print(classification_report(y_test, neigh2.predict(X_test)))"
   ]
  },
  {
   "cell_type": "markdown",
   "id": "71cc95d7",
   "metadata": {
    "id": "71cc95d7"
   },
   "source": [
    "Модель стала хуже, так что для дальнейшего использования лучше будет оставить первую версию"
   ]
  },
  {
   "cell_type": "markdown",
   "id": "131e98b3",
   "metadata": {
    "id": "131e98b3"
   },
   "source": [
    "#### Сохранение лучшей модели"
   ]
  },
  {
   "cell_type": "markdown",
   "id": "7755c3ba",
   "metadata": {
    "id": "7755c3ba"
   },
   "source": [
    "Ниже представлен код сохранения модели"
   ]
  },
  {
   "cell_type": "code",
   "execution_count": 58,
   "id": "76936f4e",
   "metadata": {
    "id": "76936f4e"
   },
   "outputs": [],
   "source": [
    "import pickle\n",
    "filename = 'finalized_model.sav'\n",
    "pickle.dump(neigh, open(filename, 'wb'))"
   ]
  },
  {
   "cell_type": "markdown",
   "id": "716ad844",
   "metadata": {
    "id": "716ad844"
   },
   "source": [
    "Так выглядит загрузка модели"
   ]
  },
  {
   "cell_type": "code",
   "execution_count": 62,
   "id": "6f0a6813",
   "metadata": {
    "id": "6f0a6813"
   },
   "outputs": [
    {
     "ename": "SyntaxError",
     "evalue": "invalid syntax (4064491967.py, line 1)",
     "output_type": "error",
     "traceback": [
      "\u001b[1;36m  Cell \u001b[1;32mIn[62], line 1\u001b[1;36m\u001b[0m\n\u001b[1;33m    load the model from disk\u001b[0m\n\u001b[1;37m         ^\u001b[0m\n\u001b[1;31mSyntaxError\u001b[0m\u001b[1;31m:\u001b[0m invalid syntax\n"
     ]
    }
   ],
   "source": [
    "load the model from disk\n",
    "loaded_model = pickle.load(open(filename, 'rb'))"
   ]
  },
  {
   "cell_type": "markdown",
   "id": "5af99732",
   "metadata": {
    "id": "5af99732"
   },
   "source": [
    "### 2.4 Подготовка отчета"
   ]
  },
  {
   "cell_type": "markdown",
   "id": "29136e3d",
   "metadata": {
    "id": "29136e3d"
   },
   "source": [
    "Тут отчет по пунктам сами напишите...<br>\n",
    "Нужно указать что было под пунктами:\n",
    "* 1 - \n",
    "* 2 - \n",
    "* 3 - \n",
    "* 4 -\n",
    "* И тд..."
   ]
  },
  {
   "cell_type": "code",
   "execution_count": 63,
   "id": "3809c214",
   "metadata": {
    "id": "3809c214"
   },
   "outputs": [],
   "source": [
    "df.to_csv('output2.csv', index=False, encoding='utf-8-sig')"
   ]
  },
  {
   "cell_type": "code",
   "execution_count": null,
   "id": "14eb1150",
   "metadata": {},
   "outputs": [],
   "source": []
  }
 ],
 "metadata": {
  "colab": {
   "provenance": []
  },
  "kernelspec": {
   "display_name": "Python 3 (ipykernel)",
   "language": "python",
   "name": "python3"
  },
  "language_info": {
   "codemirror_mode": {
    "name": "ipython",
    "version": 3
   },
   "file_extension": ".py",
   "mimetype": "text/x-python",
   "name": "python",
   "nbconvert_exporter": "python",
   "pygments_lexer": "ipython3",
   "version": "3.11.3"
  }
 },
 "nbformat": 4,
 "nbformat_minor": 5
}
